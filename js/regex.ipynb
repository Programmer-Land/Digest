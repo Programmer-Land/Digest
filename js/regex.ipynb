{
 "cells": [
  {
   "cell_type": "markdown",
   "id": "fe1ac2d5-86ed-4d5c-bbab-5de2a4109a2b",
   "metadata": {},
   "source": [
    "## replaceAll():\n",
    "### given a text build its html representation handy for interaction with words \n",
    "#### *e.g. let each word be a span of class \"word\"*"
   ]
  },
  {
   "cell_type": "code",
   "execution_count": null,
   "id": "53a41dcd-96f9-4ba7-ad58-9c8fde124406",
   "metadata": {},
   "outputs": [],
   "source": [
    "const doc = 'Само че държавата не само го търпи, но дори съзнателно го подминава. Пазителите на буквите и тяхната естетика, българската шрифтова художествена школа по собствена инициатива разработва графичните стандарти. За администацията остава само да ги заяви пред европейските институции. Но не го прави.';\n",
    "const re = /\\p{L}+/gu;\n",
    "const innerHTML = doc.replaceAll(re, '<span class=\"word\">$&</span>');\n",
    "console.log(innerHTML);"
   ]
  },
  {
   "cell_type": "markdown",
   "id": "3aee9cef-6c9e-4a5d-af22-6c249696e646",
   "metadata": {},
   "source": [
    "#### *and each line - a paragraph*\n",
    "*eoltest created in Notepad++ and copy-pasted from there. It looks like this:*<br><br>\n",
    "![eoltest](img/eol.png)"
   ]
  },
  {
   "cell_type": "code",
   "execution_count": null,
   "id": "369868e8-a3b3-4abb-8e20-1972563fbe73",
   "metadata": {},
   "outputs": [],
   "source": [
    "const eoltest = `Попробуем разные варианты конца строки.\n",
    "Linux :\n",
    "И снова линукс\n",
    "И макинтошик\n",
    "И опять плащик\n",
    "Возвращайся, сделав круг\n",
    "`;\n",
    "const eolre = /^.*$/gum;\n",
    "const p = eoltest.replaceAll(eolre, '<p class=\"paragraph\">$&</p>');\n",
    "console.log(p);"
   ]
  },
  {
   "cell_type": "markdown",
   "id": "8eca2eb4-611d-4a0a-ac2c-04fa41e36335",
   "metadata": {},
   "source": [
    "## matchAll():\n",
    "#### But markup can be not enough when we'd like e.g. synchronize speech and text highlight.\n",
    "#### Now we need both to know word position in the original string and span id in HTML."
   ]
  },
  {
   "cell_type": "code",
   "execution_count": null,
   "id": "be961c62-3adf-4f30-b853-081c4d965480",
   "metadata": {},
   "outputs": [],
   "source": [
    "const carutsy = `От днес влиза в сила забраната за движение на пътни превозни средства с животинска тяга (каруци) по улиците за обществено ползване на територията на Столичната община – с граници, заключени в карето между автомагистрала \"Европа\", Източна, Западна и Южна дъга на Околовръстен път.\n",
    "Контролът по изпълнение на тази Наредба се осъществява от Столичния инспекторат, СДВР-сектор \"Общинска полиция\" и дирекция \"Аварийна помощ и превенция\" към Столичната община.\n",
    "При установяване на нарушения компетентните органи задържат за отговорно пазене превозното средство до поискването му от собственика и го връщат след заплащане на разноските по отговорното пазене.\n",
    "Животните, ползвани за задвижване на превозни средства с животинска тяга, се предават на Оперативна програма \"Екоравновесие\" и се връщат на собственика след заплащане на разходите за отговорно пазене, отглеждане и лечение.\n",
    "Столичният общински съвет прие доклад по темата на 10 януари тази година.\n",
    "Забраната се налага заради чести нарушения на водачите на каруци като отнемане на предимство, движение по тротоари, движение в насрещното платно.\n",
    "По предложение на транспортната комисия в Столичния общински съвет от днес трябваше да влезе и двойното поскъпване на репатрирането на неправилно паркиран автомобил – от 60 до 120 лева.\n",
    "През месец май предложението беше оттеглено, а на Центъра за градска мобилност е възложено в срок до 3 месеца да изготви анализ на нуждата от нови наказателни паркинги в София.`;"
   ]
  },
  {
   "cell_type": "code",
   "execution_count": null,
   "id": "9affe7d6-9cb1-4601-9bc2-9a96a80d9324",
   "metadata": {},
   "outputs": [],
   "source": [
    "function GetDocMapAndHTML(doc) {\n",
    "    let paraHTML = '';\n",
    "    let wordMap = new Map();\n",
    "    let n = 0;\n",
    "    let id = ''; \n",
    "    \n",
    "    for (let p of doc.matchAll(/^.*$/gum)) {\n",
    "        if (p && (p[0].length > 0)) {\n",
    "            paraHTML += '<p class=\"paragraph\">';\n",
    "            let runningIndex = 0;\n",
    "            for (let w of p[0].matchAll(/\\p{L}+/gu)) {\n",
    "                id = 'w' + (n++);\n",
    "                wordMap.set(p.index + w.index, id);\n",
    "                if (runningIndex < w.index) {\n",
    "                    paraHTML += p[0].slice(runningIndex, w.index);\n",
    "                }\n",
    "                paraHTML += '<span class=\"word\" id=\"' + id +'\">' + w[0] + '</span>';\n",
    "                runningIndex = w.index + w[0].length;\n",
    "            }\n",
    "            if (runningIndex < p[0].length) {\n",
    "                paraHTML += p[0].slice(runningIndex, p[0].length);\n",
    "            }\n",
    "            paraHTML += '</p>\\n';            \n",
    "        }            \n",
    "    }\n",
    "    \n",
    "    return [wordMap, paraHTML];\n",
    "}"
   ]
  },
  {
   "cell_type": "code",
   "execution_count": null,
   "id": "67b5081c-b9db-42c5-87c1-c8beeb9b23b2",
   "metadata": {},
   "outputs": [],
   "source": [
    "let [dmp, dhtml] = GetDocMapAndHTML(carutsy);"
   ]
  },
  {
   "cell_type": "code",
   "execution_count": null,
   "id": "47269ab5-6db9-4d08-87b7-67e7a7ca3c95",
   "metadata": {},
   "outputs": [],
   "source": [
    "console.log(dhtml);"
   ]
  },
  {
   "cell_type": "code",
   "execution_count": null,
   "id": "27dcf07e-ba18-46b0-a7b5-cf57e438f21b",
   "metadata": {},
   "outputs": [],
   "source": [
    "console.log(dmp);"
   ]
  },
  {
   "cell_type": "code",
   "execution_count": null,
   "id": "2e153d88-4ddf-4bfe-b6e3-06a417a83ca3",
   "metadata": {},
   "outputs": [],
   "source": []
  }
 ],
 "metadata": {
  "kernelspec": {
   "display_name": "JavaScript (Node.js)",
   "language": "javascript",
   "name": "javascript"
  },
  "language_info": {
   "file_extension": ".js",
   "mimetype": "application/javascript",
   "name": "javascript",
   "version": "16.14.2"
  }
 },
 "nbformat": 4,
 "nbformat_minor": 5
}
