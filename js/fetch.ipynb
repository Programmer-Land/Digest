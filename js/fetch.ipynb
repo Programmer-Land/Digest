{
 "cells": [
  {
   "cell_type": "markdown",
   "id": "f8844bea-0fe2-45b1-8126-78a1cfd94574",
   "metadata": {},
   "source": [
    "# Fetch API\n",
    "### Before fetch we used XMLHttpRequest or even ActiveXObject\n",
    "#### On client side we asked window if it has corresponding object:"
   ]
  },
  {
   "cell_type": "code",
   "execution_count": null,
   "id": "8037498a-3f28-459f-a89a-439c1b053fda",
   "metadata": {},
   "outputs": [],
   "source": [
    "// PLEASE DON'T RUN THIS CELL, notebook does not have access to browser's JavaScript runtime\n",
    "\n",
    "if (window.XMLHttpRequest) {\n",
    "    request = new XMLHttpRequest();\n",
    "} else if (window.ActiveXObject) { //IE\n",
    "    try {\n",
    "        request = new ActiveXObject('Msxml2.XMLHTTP');\n",
    "    }\n",
    "    catch (e) {\n",
    "        try {\n",
    "            request = new ActiveXObject('Microsoft.XMLHTTP');\n",
    "        }\n",
    "        catch (e) {}\n",
    "    }\n",
    "}\n"
   ]
  },
  {
   "cell_type": "markdown",
   "id": "fb833561-520b-45af-b94a-17b30c3709e5",
   "metadata": {},
   "source": [
    "#### So I tried to use a substitute for Node.js. It sends request and as if loads something, but the result remains empty."
   ]
  },
  {
   "cell_type": "code",
   "execution_count": null,
   "id": "0b113f4a-37c3-455b-9091-b160b24d986a",
   "metadata": {},
   "outputs": [],
   "source": [
    "var XMLHttpRequest = require('xmlhttprequest').XMLHttpRequest;\n",
    "var request = new XMLHttpRequest();\n",
    "\n",
    "if (request) {\n",
    "    request.open('GET', 'https://api.github.com/users/veselinmaleshev/repos', true);\n",
    "    request.send(null);\n",
    "\n",
    "    request.onreadystatechange = function(state) {\n",
    "        if (request.readyState === 4) {\n",
    "            //console.log(JSON.parse(request.response));\n",
    "            console.log(`request.responseType = ${request.responseType}`);\n",
    "        }\n",
    "    }\n",
    "} else {\n",
    "    console.log('Request was not created');\n",
    "}"
   ]
  },
  {
   "cell_type": "markdown",
   "id": "87e07534-1c99-414d-9791-7b103de4b727",
   "metadata": {},
   "source": [
    "## fetch is way simpler \n",
    "#### On client side we just ask window if it has fetch - and fetch!"
   ]
  },
  {
   "cell_type": "code",
   "execution_count": null,
   "id": "af00038d-e9d7-47a5-a271-e47a850cd8b1",
   "metadata": {},
   "outputs": [],
   "source": [
    "// PLEASE DON'T RUN THIS CELL, notebook does not have access to browser's JavaScript runtime\n",
    "\n",
    "if (window.fetch) {\n",
    "   fetch('https://api.github.com/users/veselinmaleshev/repos').then((response) => {return response.json();})\n",
    "                                                              .then((json) => console.log(json));\n",
    "}"
   ]
  },
  {
   "cell_type": "markdown",
   "id": "a51123cd-4d61-41a5-9d69-827cabd316cb",
   "metadata": {},
   "source": [
    "With Node we need installing ***node-fetch***"
   ]
  },
  {
   "cell_type": "code",
   "execution_count": null,
   "id": "13ce6557-a0c9-4b19-9352-b6b18232c5b8",
   "metadata": {},
   "outputs": [],
   "source": [
    "const fetch = require('node-fetch');"
   ]
  },
  {
   "cell_type": "code",
   "execution_count": null,
   "id": "3c26a97c-73b7-41cc-9d64-b23fb30565b7",
   "metadata": {},
   "outputs": [],
   "source": [
    "fetch('https://api.github.com/users/veselinmaleshev/repos').then((response) => { return response.json(); })\n",
    "                                                           .then((json) => {\n",
    "                                                                    for (const item of json) { //Array of objects\n",
    "                                                                        console.log(item.name);\n",
    "                                                                    }                                                                   \n",
    "                                                                   }); "
   ]
  },
  {
   "cell_type": "markdown",
   "id": "4265e553-b1f9-4119-82dd-79d2a9b00ca1",
   "metadata": {},
   "source": [
    "#### Response can be read just once. If we need to reread it, we should clone it before reading"
   ]
  },
  {
   "cell_type": "code",
   "execution_count": null,
   "id": "00d3b061-8cbe-441d-9ee8-6adcbb34cb57",
   "metadata": {},
   "outputs": [],
   "source": [
    "\n",
    "fetch('https://api.github.com/users/veselinmaleshev/repos')\n",
    "    .then((response) => {return Promise.allSettled([response.clone().text(), response.json()]);})\n",
    "    .then((results) => results.forEach((res) => console.log(res))); "
   ]
  },
  {
   "cell_type": "markdown",
   "id": "b4b75c41-b7e2-4eea-bdf3-993302e0af89",
   "metadata": {},
   "source": [
    "#### fetch errors are caught exactly like other promises'"
   ]
  },
  {
   "cell_type": "code",
   "execution_count": null,
   "id": "5c13fa9c-3dd4-443e-9c57-b7a7abfae232",
   "metadata": {},
   "outputs": [],
   "source": [
    "fetch('https://api.githu.com/users/veselinmaleshev/repos').then((response) => console.log(response.status))\n",
    "                                                          .catch((e) => console.log(e));"
   ]
  },
  {
   "cell_type": "markdown",
   "id": "0579cba3-5a47-41e6-aba5-a4ee4807f538",
   "metadata": {},
   "source": [
    "#### we can fetch local files. It works just fine on client side, but I cannot make it work here :("
   ]
  },
  {
   "cell_type": "code",
   "execution_count": null,
   "id": "145bedc7-aff6-49c6-8ee7-51921ebb3cf8",
   "metadata": {},
   "outputs": [],
   "source": []
  }
 ],
 "metadata": {
  "kernelspec": {
   "display_name": "JavaScript (Node.js)",
   "language": "javascript",
   "name": "javascript"
  },
  "language_info": {
   "file_extension": ".js",
   "mimetype": "application/javascript",
   "name": "javascript",
   "version": "16.14.2"
  }
 },
 "nbformat": 4,
 "nbformat_minor": 5
}
