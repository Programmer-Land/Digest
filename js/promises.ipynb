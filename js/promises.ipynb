{
 "cells": [
  {
   "cell_type": "markdown",
   "id": "54d090a9-5463-4043-8bf4-d9096855497d",
   "metadata": {},
   "source": [
    "# Promises \n",
    "## are about retrieveing or calculating something asynchroniously. \n",
    "### Before promises this was done using callbacks - functions called when result is ready.\n",
    "*Callbacks can be called **on any event**, but this is out of our current scope.*"
   ]
  },
  {
   "cell_type": "markdown",
   "id": "70350a43-51a5-406b-8ea5-405cfd4cbcee",
   "metadata": {},
   "source": [
    "## Classic callback"
   ]
  },
  {
   "cell_type": "code",
   "execution_count": 4,
   "id": "ca38aa1c-38e0-46d3-8897-2d938478d6d1",
   "metadata": {},
   "outputs": [
    {
     "data": {
      "text/plain": [
       "undefined"
      ]
     },
     "execution_count": 4,
     "metadata": {},
     "output_type": "execute_result"
    },
    {
     "name": "stdout",
     "output_type": "stream",
     "text": [
      "2\n"
     ]
    }
   ],
   "source": [
    "function addExtraC(price, callback) {\n",
    "    setTimeout(function() {\n",
    "        callback(price + 1);\n",
    "    }, 300);\n",
    "}\n",
    "\n",
    "addExtraC(1, newPrice => {\n",
    "    if (newPrice > 2) {\n",
    "        console.log(\"Price cannot exceed 3\");\n",
    "    }\n",
    "    else {\n",
    "        console.log(newPrice);\n",
    "    }\n",
    "});"
   ]
  },
  {
   "cell_type": "markdown",
   "id": "2a1e8aa8-5f3b-49b7-bf79-9f69fb7af351",
   "metadata": {},
   "source": [
    "## Same with promise"
   ]
  },
  {
   "cell_type": "code",
   "execution_count": 2,
   "id": "c5f44c79-ebef-4e88-99a3-9165d4f7391c",
   "metadata": {},
   "outputs": [
    {
     "name": "stdout",
     "output_type": "stream",
     "text": [
      "2\n"
     ]
    },
    {
     "data": {
      "text/plain": [
       "undefined"
      ]
     },
     "execution_count": 2,
     "metadata": {},
     "output_type": "execute_result"
    }
   ],
   "source": [
    "function addExtraP(price) {\n",
    "    return new Promise(function(resolve, reject) {\n",
    "        if (price > 2)\n",
    "            reject(\"Price cannot exceed 3\");\n",
    "        setTimeout(function() {\n",
    "            resolve(price + 1);\n",
    "        }, 300);\n",
    "    });\n",
    "}\n",
    "\n",
    "addExtraP(1).then(newPrice => console.log(newPrice));"
   ]
  },
  {
   "cell_type": "markdown",
   "id": "db89840a-af7e-4534-b97f-63d778b24b52",
   "metadata": {},
   "source": [
    "### a promise is definitely better than callback when we have \n",
    "## a chain of asynchronious actions\n",
    "### each to be done basing on the result of previous one. "
   ]
  },
  {
   "cell_type": "code",
   "execution_count": 6,
   "id": "4419b8d3-7bb7-4719-9ca7-7ab74ff38248",
   "metadata": {},
   "outputs": [
    {
     "name": "stdout",
     "output_type": "stream",
     "text": [
      "Price cannot exceed 3\n"
     ]
    },
    {
     "data": {
      "text/plain": [
       "undefined"
      ]
     },
     "execution_count": 6,
     "metadata": {},
     "output_type": "execute_result"
    }
   ],
   "source": [
    "addExtraP(1).then(addExtraP).then(addExtraP).then(newPrice => console.log(newPrice), error => console.log(error));"
   ]
  },
  {
   "cell_type": "markdown",
   "id": "25695ade-6096-4b75-b6f3-603ff5445c74",
   "metadata": {},
   "source": [
    "### The same using catch:"
   ]
  },
  {
   "cell_type": "code",
   "execution_count": 7,
   "id": "88989726-99e2-4cc1-b6b3-aa053ce165e9",
   "metadata": {},
   "outputs": [
    {
     "name": "stdout",
     "output_type": "stream",
     "text": [
      "Price cannot exceed 3\n"
     ]
    },
    {
     "data": {
      "text/plain": [
       "undefined"
      ]
     },
     "execution_count": 7,
     "metadata": {},
     "output_type": "execute_result"
    }
   ],
   "source": [
    "addExtraP(1).then(addExtraP).then(addExtraP).then(newPrice => console.log(newPrice)).catch(error => console.log(error));"
   ]
  },
  {
   "cell_type": "markdown",
   "id": "7d7ece2c-7228-4694-9739-828c8d22cb63",
   "metadata": {},
   "source": [
    "### error handling can be mentioned once - at the end - and called when really needed\n",
    "#### (error propagation)"
   ]
  },
  {
   "cell_type": "code",
   "execution_count": 3,
   "id": "4ca033d9-caac-4a6e-86d7-147e7d49d20f",
   "metadata": {},
   "outputs": [
    {
     "name": "stdout",
     "output_type": "stream",
     "text": [
      "2\n",
      "3\n",
      "Price cannot exceed 3\n"
     ]
    },
    {
     "data": {
      "text/plain": [
       "undefined"
      ]
     },
     "execution_count": 3,
     "metadata": {},
     "output_type": "execute_result"
    }
   ],
   "source": [
    "addExtraP(1).then(newPrice => {console.log(newPrice); return addExtraP(newPrice);})\n",
    "            .then(newPrice => {console.log(newPrice); return addExtraP(newPrice);})\n",
    "            .then(newPrice => {console.log(newPrice); return addExtraP(newPrice);})\n",
    "            .then(newPrice => {console.log(newPrice); return addExtraP(newPrice);}, error => console.log(error));"
   ]
  },
  {
   "cell_type": "markdown",
   "id": "ef4c9e52-5286-4183-8f28-8586564d72c4",
   "metadata": {},
   "source": [
    "## Just to retrieve a value (document) asyncroniously"
   ]
  },
  {
   "cell_type": "code",
   "execution_count": 10,
   "id": "3b514a35-2a5d-4c1d-9fa9-b7c5578a5aac",
   "metadata": {},
   "outputs": [
    {
     "name": "stdout",
     "output_type": "stream",
     "text": [
      "99.9\n"
     ]
    },
    {
     "data": {
      "text/plain": [
       "undefined"
      ]
     },
     "execution_count": 10,
     "metadata": {},
     "output_type": "execute_result"
    }
   ],
   "source": [
    "let v0 = new Promise(function(resolve, reject) {\n",
    "    setTimeout(function() {resolve(99.9);}, 300);\n",
    "});\n",
    "\n",
    "v0.then(res => console.log(res));"
   ]
  },
  {
   "cell_type": "markdown",
   "id": "51da8661-8f77-404e-8461-ac2a79172b93",
   "metadata": {},
   "source": [
    "### If we need a number of results and can do something when receive them all and only in case they all have sucseeded. \n",
    "## Promise.all()\n",
    "#### Besides promises we can add values or functions returning values:"
   ]
  },
  {
   "cell_type": "code",
   "execution_count": 1,
   "id": "e8fd5e12-3481-4327-bef9-92a15198166a",
   "metadata": {},
   "outputs": [
    {
     "name": "stdout",
     "output_type": "stream",
     "text": [
      "[ 200, 99.9, 199.9, 'Hello!' ]\n"
     ]
    },
    {
     "data": {
      "text/plain": [
       "undefined"
      ]
     },
     "execution_count": 1,
     "metadata": {},
     "output_type": "execute_result"
    }
   ],
   "source": [
    "function greet() {\n",
    "    return \"Hello!\";\n",
    "}\n",
    "\n",
    "let vals = [200\n",
    "          , new Promise((resolve, reject) => setTimeout(() => resolve(99.9), 300))\n",
    "          , new Promise((resolve, reject) => setTimeout(() => resolve(199.9), 800))\n",
    "          , greet()];\n",
    "\n",
    "Promise.all(vals).then(solved => console.log(solved));"
   ]
  },
  {
   "cell_type": "code",
   "execution_count": 1,
   "id": "4b8cd953-0822-436d-bb89-2b00e7b981fe",
   "metadata": {},
   "outputs": [
    {
     "name": "stdout",
     "output_type": "stream",
     "text": [
      "An error occured on slow one\n"
     ]
    },
    {
     "data": {
      "text/plain": [
       "undefined"
      ]
     },
     "execution_count": 1,
     "metadata": {},
     "output_type": "execute_result"
    }
   ],
   "source": [
    "let rej = [new Promise((resolve, reject) => setTimeout(() => resolve(100), 300))\n",
    "         , new Promise((resolve, reject) => setTimeout(() => reject(\"An error occured on slow one\"), 800))];\n",
    "\n",
    "Promise.all(rej).then(solved => console.log(solved)).catch(error => console.log(error));"
   ]
  },
  {
   "cell_type": "code",
   "execution_count": 2,
   "id": "182dd62c-3b4b-41c5-b75f-7e4d873e9bc7",
   "metadata": {},
   "outputs": [
    {
     "name": "stdout",
     "output_type": "stream",
     "text": [
      "An error occured on fast one\n"
     ]
    },
    {
     "data": {
      "text/plain": [
       "undefined"
      ]
     },
     "execution_count": 2,
     "metadata": {},
     "output_type": "execute_result"
    }
   ],
   "source": [
    "let rejall = [new Promise((resolve, reject) => setTimeout(() => reject(\"An error occured on fast one\"), 300))\n",
    "            , new Promise((resolve, reject) => setTimeout(() => reject(\"An error occured on slow one\"), 800))];\n",
    "\n",
    "Promise.all(rejall).then(solved => console.log(solved)).catch(error => console.log(error));"
   ]
  },
  {
   "cell_type": "markdown",
   "id": "f1061f57-d521-4605-96a7-23649a30cf8a",
   "metadata": {},
   "source": [
    "### If we need a number of results and will do something with each resolved result when all are resolved or rejected\n",
    "## Promise.allSettled()"
   ]
  },
  {
   "cell_type": "code",
   "execution_count": 4,
   "id": "7a089a14-2a94-45b6-996d-bba9ad5d2a95",
   "metadata": {},
   "outputs": [
    {
     "name": "stdout",
     "output_type": "stream",
     "text": [
      "[\n",
      "  { status: 'fulfilled', value: 100 },\n",
      "  { status: 'rejected', reason: 'An error occured on slow one' }\n",
      "]\n"
     ]
    },
    {
     "data": {
      "text/plain": [
       "undefined"
      ]
     },
     "execution_count": 4,
     "metadata": {},
     "output_type": "execute_result"
    }
   ],
   "source": [
    "let settled = [new Promise((resolve, reject) => setTimeout(() => resolve(100), 300))\n",
    "             , new Promise((resolve, reject) => setTimeout(() => reject(\"An error occured on slow one\"), 800))];\n",
    "\n",
    "Promise.allSettled(settled).then(solved => console.log(solved)).catch(error => console.log(error));"
   ]
  },
  {
   "cell_type": "markdown",
   "id": "52d3eafc-d205-40e2-9c2e-9d8d0b9cb8c9",
   "metadata": {},
   "source": [
    "### If we can receive a data from a number of sources, we can create promises fro all of them and then race - the result of the fastest one will be returned.\n",
    "## Promise.race()"
   ]
  },
  {
   "cell_type": "code",
   "execution_count": 3,
   "id": "aac77a7a-8fe3-495b-bd14-3dd106d4222e",
   "metadata": {},
   "outputs": [
    {
     "name": "stdout",
     "output_type": "stream",
     "text": [
      "fast\n"
     ]
    },
    {
     "data": {
      "text/plain": [
       "undefined"
      ]
     },
     "execution_count": 3,
     "metadata": {},
     "output_type": "execute_result"
    }
   ],
   "source": [
    "let fast = new Promise((resolve, reject) => setTimeout(() => resolve(\"fast\"), 100));\n",
    "let slow = new Promise((resolve, reject) => setTimeout(() => resolve(\"slow\"), 200));\n",
    "\n",
    "Promise.race([fast, slow]).then(res => console.log(res)).catch(error => console.log(error));"
   ]
  },
  {
   "cell_type": "markdown",
   "id": "0bca9168-632b-47b8-b143-2103ca3807d7",
   "metadata": {},
   "source": [
    "### But if fastest promise is rejected - we will not receive any result:"
   ]
  },
  {
   "cell_type": "code",
   "execution_count": 4,
   "id": "bda2a44a-3b0a-4bdf-9707-ad8fe07d1ffa",
   "metadata": {},
   "outputs": [
    {
     "name": "stdout",
     "output_type": "stream",
     "text": [
      "fast is rejected\n"
     ]
    },
    {
     "data": {
      "text/plain": [
       "undefined"
      ]
     },
     "execution_count": 4,
     "metadata": {},
     "output_type": "execute_result"
    }
   ],
   "source": [
    "let fast1 = new Promise((resolve, reject) => setTimeout(() => reject(\"fast is rejected\"), 100));\n",
    "let slow1 = new Promise((resolve, reject) => setTimeout(() => resolve(\"slow\"), 200));\n",
    "\n",
    "Promise.race([fast1, slow1]).then(res => console.log(res)).catch(error => console.log(error));"
   ]
  },
  {
   "cell_type": "markdown",
   "id": "3e3560f0-1f6a-4946-86f0-7a67bd5dbaf0",
   "metadata": {},
   "source": [
    "### More often we'd like to retrieve the result if it can be retrieved from any of possible sources.\n",
    "## Promise.any()"
   ]
  },
  {
   "cell_type": "code",
   "execution_count": 1,
   "id": "fc7b71ea-fbf7-4bdc-907e-4dd7a49f4f89",
   "metadata": {},
   "outputs": [
    {
     "name": "stdout",
     "output_type": "stream",
     "text": [
      "quick\n"
     ]
    },
    {
     "data": {
      "text/plain": [
       "undefined"
      ]
     },
     "execution_count": 1,
     "metadata": {},
     "output_type": "execute_result"
    }
   ],
   "source": [
    "const sources = [Promise.reject(0)\n",
    "               , new Promise((resolve) => setTimeout(resolve, 100, \"quick\"))\n",
    "               , new Promise((resolve) => setTimeout(resolve, 300, \"slow\"))];\n",
    "\n",
    "Promise.any(sources).then((val) => console.log(val), (error) => console.log(error));"
   ]
  },
  {
   "cell_type": "markdown",
   "id": "22284e1d-6474-4bb5-82a8-c0fb1e17c0ac",
   "metadata": {},
   "source": [
    "### And last but by no means least\n",
    "## When will then() be called???"
   ]
  },
  {
   "cell_type": "code",
   "execution_count": 2,
   "id": "056c5b98-d3b9-4439-b2c6-9c934a6b8d85",
   "metadata": {},
   "outputs": [
    {
     "name": "stdout",
     "output_type": "stream",
     "text": [
      "After Promise.then()\n",
      "After RetrieveData()\n"
     ]
    },
    {
     "data": {
      "text/plain": [
       "undefined"
      ]
     },
     "execution_count": 2,
     "metadata": {},
     "output_type": "execute_result"
    },
    {
     "name": "stdout",
     "output_type": "stream",
     "text": [
      "immediate\n"
     ]
    }
   ],
   "source": [
    "function RetrieveData() {\n",
    "    Promise.resolve(\"immediate\").then((val) => console.log(val));\n",
    "    console.log(\"After Promise.then()\");\n",
    "}\n",
    "\n",
    "RetrieveData();\n",
    "console.log(\"After RetrieveData()\");"
   ]
  },
  {
   "cell_type": "markdown",
   "id": "d5937f23-296b-4b2d-bf8f-d86c59b8c7be",
   "metadata": {},
   "source": [
    "### As <a href=\"https://developer.mozilla.org/en-US/docs/Web/JavaScript/Guide/Using_promises#guarantees\" target=\"_blank\">MDN states</a>:\n",
    "* *Callbacks added with then() **will never be invoked before** the completion of the **current run** of the JavaScript **event loop**.*\n",
    "* *These callbacks **will be invoked** even if they were **added after the success or failure** of the asynchronous operation that the promise represents.*\n",
    "* ***Multiple callbacks** may be added by calling **then() several** times. They will be invoked one after another, **in the order** in which they were **inserted**.*"
   ]
  },
  {
   "cell_type": "code",
   "execution_count": null,
   "id": "c6bfe9a0-11a7-4846-8a17-5b9c17bc9e75",
   "metadata": {},
   "outputs": [],
   "source": []
  }
 ],
 "metadata": {
  "kernelspec": {
   "display_name": "Javascript (Node.js)",
   "language": "javascript",
   "name": "javascript"
  },
  "language_info": {
   "file_extension": ".js",
   "mimetype": "application/javascript",
   "name": "javascript",
   "version": "15.14.0"
  }
 },
 "nbformat": 4,
 "nbformat_minor": 5
}
