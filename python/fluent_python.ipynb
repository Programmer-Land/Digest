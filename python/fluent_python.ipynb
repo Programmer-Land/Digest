{
 "cells": [
  {
   "cell_type": "markdown",
   "id": "d33c4d0a-465c-4317-aa16-731b69cb23a6",
   "metadata": {},
   "source": [
    "# Examples from <a href=\"https://www.fluentpython.com/\" target=\"_blank\">Fluent Python</a> book"
   ]
  },
  {
   "cell_type": "markdown",
   "id": "b2c7a2da-85bf-47a8-b356-49d3f03c129a",
   "metadata": {},
   "source": [
    "## A Pythonic Card Deck"
   ]
  },
  {
   "cell_type": "code",
   "execution_count": 2,
   "id": "74487ea9-6973-4f22-9448-0e9e60afc332",
   "metadata": {},
   "outputs": [],
   "source": [
    "import collections"
   ]
  },
  {
   "cell_type": "code",
   "execution_count": 3,
   "id": "25184581-b259-4489-b913-33866455f893",
   "metadata": {},
   "outputs": [],
   "source": [
    "Card = collections.namedtuple('Card', ['rank', 'suit'])\n",
    "\n",
    "class FrenchDeck:\n",
    "    ranks = [str(n) for n in range(2, 11)] + list('JQKA')\n",
    "    suits = 'spades diamonds clubs hearts'.split()\n",
    "    \n",
    "    def __init__(self):\n",
    "        self._cards = [Card(rank, suit) for suit in self.suits for rank in self.ranks]\n",
    "        \n",
    "    def __len__(self):\n",
    "        return len(self._cards)\n",
    "    \n",
    "    def __getitem__(self, pos):\n",
    "        return self._cards[pos]"
   ]
  },
  {
   "cell_type": "markdown",
   "id": "e64228a9-666a-4fea-b0a7-f5cc3521b68f",
   "metadata": {},
   "source": [
    "### \\_\\_len\\_\\_() use"
   ]
  },
  {
   "cell_type": "code",
   "execution_count": 5,
   "id": "8c0a2f2e-60e0-482e-be1a-f809d3d3b681",
   "metadata": {},
   "outputs": [
    {
     "data": {
      "text/plain": [
       "52"
      ]
     },
     "execution_count": 5,
     "metadata": {},
     "output_type": "execute_result"
    }
   ],
   "source": [
    "deck = FrenchDeck()\n",
    "len(deck)"
   ]
  },
  {
   "cell_type": "markdown",
   "id": "ffe32c03-e2d2-467d-ae98-388642ca1735",
   "metadata": {},
   "source": [
    "### \\_\\_getitem\\_\\_() uses\n",
    "#### indexing and slicing"
   ]
  },
  {
   "cell_type": "code",
   "execution_count": 7,
   "id": "057293f2-446b-47fb-b320-43fe15c87fa7",
   "metadata": {},
   "outputs": [
    {
     "data": {
      "text/plain": [
       "Card(rank='2', suit='spades')"
      ]
     },
     "execution_count": 7,
     "metadata": {},
     "output_type": "execute_result"
    }
   ],
   "source": [
    "deck[0]"
   ]
  },
  {
   "cell_type": "code",
   "execution_count": 8,
   "id": "bb336fbe-56f6-4e28-90c3-68eea995a251",
   "metadata": {},
   "outputs": [
    {
     "data": {
      "text/plain": [
       "Card(rank='A', suit='hearts')"
      ]
     },
     "execution_count": 8,
     "metadata": {},
     "output_type": "execute_result"
    }
   ],
   "source": [
    "deck[-1]"
   ]
  },
  {
   "cell_type": "code",
   "execution_count": 10,
   "id": "c6258eca-8b96-4053-94ba-fced46f54dc3",
   "metadata": {},
   "outputs": [
    {
     "data": {
      "text/plain": [
       "[Card(rank='2', suit='spades'),\n",
       " Card(rank='3', suit='spades'),\n",
       " Card(rank='4', suit='spades')]"
      ]
     },
     "execution_count": 10,
     "metadata": {},
     "output_type": "execute_result"
    }
   ],
   "source": [
    "deck[:3] # first 3 cards"
   ]
  },
  {
   "cell_type": "code",
   "execution_count": 11,
   "id": "3ec55d3a-2f93-4741-a12f-918cda26c1d3",
   "metadata": {},
   "outputs": [
    {
     "data": {
      "text/plain": [
       "[Card(rank='A', suit='spades'),\n",
       " Card(rank='A', suit='diamonds'),\n",
       " Card(rank='A', suit='clubs'),\n",
       " Card(rank='A', suit='hearts')]"
      ]
     },
     "execution_count": 11,
     "metadata": {},
     "output_type": "execute_result"
    }
   ],
   "source": [
    "deck[12::13] # all aces"
   ]
  },
  {
   "cell_type": "markdown",
   "id": "f6ba7d97-40a2-47af-b62a-7548f3b313df",
   "metadata": {},
   "source": [
    "#### random card"
   ]
  },
  {
   "cell_type": "code",
   "execution_count": 13,
   "id": "24dc2a93-a7e8-46af-a929-691ff0342dd7",
   "metadata": {},
   "outputs": [
    {
     "data": {
      "text/plain": [
       "Card(rank='4', suit='spades')"
      ]
     },
     "execution_count": 13,
     "metadata": {},
     "output_type": "execute_result"
    }
   ],
   "source": [
    "from random import choice\n",
    "\n",
    "choice(deck)"
   ]
  },
  {
   "cell_type": "markdown",
   "id": "cc3042de-861c-4385-ab17-77a626dfa5fd",
   "metadata": {},
   "source": [
    "#### iterating"
   ]
  },
  {
   "cell_type": "code",
   "execution_count": 17,
   "id": "6083e115-45d3-49c8-9895-1abb2a2a6fcf",
   "metadata": {},
   "outputs": [
    {
     "name": "stdout",
     "output_type": "stream",
     "text": [
      "Card(rank='2', suit='spades')\n",
      "Card(rank='3', suit='spades')\n",
      "Card(rank='4', suit='spades')\n"
     ]
    }
   ],
   "source": [
    "i = 0\n",
    "for card in deck:\n",
    "    print(card)\n",
    "    i += 1\n",
    "    if i > 2: break"
   ]
  },
  {
   "cell_type": "code",
   "execution_count": 18,
   "id": "cb8c741f-ac70-42f9-ae70-93af38edc98c",
   "metadata": {},
   "outputs": [
    {
     "name": "stdout",
     "output_type": "stream",
     "text": [
      "Card(rank='A', suit='hearts')\n",
      "Card(rank='K', suit='hearts')\n",
      "Card(rank='Q', suit='hearts')\n"
     ]
    }
   ],
   "source": [
    "i = 0\n",
    "for card in reversed(deck):\n",
    "    print(card)\n",
    "    i += 1\n",
    "    if i > 2: break"
   ]
  },
  {
   "cell_type": "markdown",
   "id": "85420a25-8114-4052-9cf6-39a9eda64d8a",
   "metadata": {},
   "source": [
    "#### in *operator*\n",
    "*NB: without \\_\\_contains\\_\\_() it does sequential scan*"
   ]
  },
  {
   "cell_type": "code",
   "execution_count": 19,
   "id": "30676f27-e5af-4b61-95f2-58cbb0131301",
   "metadata": {},
   "outputs": [
    {
     "data": {
      "text/plain": [
       "True"
      ]
     },
     "execution_count": 19,
     "metadata": {},
     "output_type": "execute_result"
    }
   ],
   "source": [
    "Card('Q', 'hearts') in deck"
   ]
  },
  {
   "cell_type": "code",
   "execution_count": 20,
   "id": "efb97322-cbb7-444d-b612-0fbcebe3d24d",
   "metadata": {},
   "outputs": [
    {
     "data": {
      "text/plain": [
       "False"
      ]
     },
     "execution_count": 20,
     "metadata": {},
     "output_type": "execute_result"
    }
   ],
   "source": [
    "Card('7', 'beasts') in deck"
   ]
  },
  {
   "cell_type": "markdown",
   "id": "83efa7af-12ba-482b-8327-599c68cec849",
   "metadata": {
    "tags": []
   },
   "source": [
    "#### sorting"
   ]
  },
  {
   "cell_type": "code",
   "execution_count": null,
   "id": "fb06d35a-d5f9-4fc6-88e3-d764af63f1b3",
   "metadata": {},
   "outputs": [],
   "source": [
    "def spades_high(card):\n",
    "    if not hasattr(spades_high, 'suit_values'):\n",
    "        spades_high.suit_values = dict(spades = 3, hearts = 2, diamonds = 1, clubs = 0)\n",
    "        \n",
    "    rank_value = FrenchDeck.ranks.index(card.rank)\n",
    "    return rank_value * len(spades_high.suit_values) + spades_high.suit_values[card.suit]\n",
    "\n",
    "for card in sorted(deck, key = spades_high):\n",
    "    print(card)"
   ]
  },
  {
   "cell_type": "markdown",
   "id": "d6d293b5-8bf7-4c67-9e4d-fed88cd5edef",
   "metadata": {},
   "source": [
    "## More dunder overrides"
   ]
  },
  {
   "cell_type": "code",
   "execution_count": 31,
   "id": "c5b51c14-3740-4ea9-b807-f63889fb3cfa",
   "metadata": {},
   "outputs": [
    {
     "name": "stdout",
     "output_type": "stream",
     "text": [
      "Vector(4, 5)\n",
      "4.47213595499958\n",
      "Vector(6, 3)\n",
      "19.209372712298546\n"
     ]
    }
   ],
   "source": [
    "import math\n",
    "\n",
    "class Vector2D:\n",
    "    def __init__(self, x = 0, y = 0):\n",
    "        self.x = x\n",
    "        self.y = y\n",
    "        \n",
    "    def __repr__(self):\n",
    "        return f'Vector({self.x!r}, {self.y!r})'\n",
    "    \n",
    "    def __abs__(self):\n",
    "        return math.hypot(self.x, self.y)\n",
    "    \n",
    "    def __bool__(self):\n",
    "        return bool(self.x) or bool(self.y) \n",
    "    \n",
    "    def __add__(self, other):\n",
    "        return Vector2D(self.x + other.x, self.y + other.y)\n",
    "    \n",
    "    def __mul__(self, scalar):\n",
    "        return Vector2D(self.x * scalar, self.y * scalar)\n",
    "    \n",
    "\n",
    "v1 = Vector2D(2, 4)\n",
    "v2 = Vector2D(2, 1)\n",
    "print(v1 + v2)\n",
    "\n",
    "print(abs(v1))\n",
    "\n",
    "print(v2 * 3)\n",
    "\n",
    "print(abs((v1 + v2) * 3))"
   ]
  },
  {
   "cell_type": "markdown",
   "id": "eab20714-19f8-4493-a920-1dca7fc0d3b8",
   "metadata": {},
   "source": [
    "## Collections"
   ]
  },
  {
   "cell_type": "code",
   "execution_count": 1,
   "id": "d8f1ea24-19e6-4eb7-8e70-3c600b212862",
   "metadata": {},
   "outputs": [
    {
     "name": "stdout",
     "output_type": "stream",
     "text": [
      "Tuple is Sequence subclass True\n",
      "List is MutableSequence subclass True\n"
     ]
    }
   ],
   "source": [
    "from collections import abc\n",
    "\n",
    "print('Tuple is Sequence subclass', issubclass(tuple, abc.Sequence))\n",
    "print('List is MutableSequence subclass', issubclass(list, abc.MutableSequence))"
   ]
  },
  {
   "cell_type": "markdown",
   "id": "e78c2192-3280-448b-b0fe-09ffaa171936",
   "metadata": {},
   "source": [
    "### List comprehensions"
   ]
  },
  {
   "cell_type": "code",
   "execution_count": 2,
   "id": "eeae14aa-500b-4590-8162-6158f67086ee",
   "metadata": {},
   "outputs": [
    {
     "name": "stdout",
     "output_type": "stream",
     "text": [
      "[36, 162, 163, 165, 8364, 164]\n"
     ]
    }
   ],
   "source": [
    "codes = [ord(sym) for sym in '$¢£¥€¤']\n",
    "print(codes)"
   ]
  },
  {
   "cell_type": "markdown",
   "id": "8fb94d3e-2930-4cef-9e7d-0566e3ec4fda",
   "metadata": {},
   "source": [
    "#### names and scopes"
   ]
  },
  {
   "cell_type": "code",
   "execution_count": 4,
   "id": "46bbe8c5-2967-409e-86e0-678783d9d87e",
   "metadata": {},
   "outputs": [
    {
     "name": "stdout",
     "output_type": "stream",
     "text": [
      "abc [97, 98, 99]\n"
     ]
    }
   ],
   "source": [
    "x = 'abc'\n",
    "codes = [ord(x) for x in x] # comprehension knows what x is what, outer x remains unchanged\n",
    "print(x, codes)"
   ]
  },
  {
   "cell_type": "code",
   "execution_count": 5,
   "id": "c6aca3b4-74b7-4c78-bedd-e779638cb1aa",
   "metadata": {},
   "outputs": [
    {
     "name": "stdout",
     "output_type": "stream",
     "text": [
      "99\n"
     ]
    },
    {
     "ename": "NameError",
     "evalue": "name 'c' is not defined",
     "output_type": "error",
     "traceback": [
      "\u001b[1;31m---------------------------------------------------------------------------\u001b[0m",
      "\u001b[1;31mNameError\u001b[0m                                 Traceback (most recent call last)",
      "Input \u001b[1;32mIn [5]\u001b[0m, in \u001b[0;36m<cell line: 3>\u001b[1;34m()\u001b[0m\n\u001b[0;32m      1\u001b[0m codes \u001b[38;5;241m=\u001b[39m [last \u001b[38;5;241m:=\u001b[39m \u001b[38;5;28mord\u001b[39m(c) \u001b[38;5;28;01mfor\u001b[39;00m c \u001b[38;5;129;01min\u001b[39;00m x] \u001b[38;5;66;03m# last is visible outside of comprehension, c is not\u001b[39;00m\n\u001b[0;32m      2\u001b[0m \u001b[38;5;28mprint\u001b[39m(last)\n\u001b[1;32m----> 3\u001b[0m \u001b[38;5;28mprint\u001b[39m(\u001b[43mc\u001b[49m)\n",
      "\u001b[1;31mNameError\u001b[0m: name 'c' is not defined"
     ]
    }
   ],
   "source": [
    "codes = [last := ord(c) for c in x] # last is visible outside of comprehension, c is not\n",
    "print(last)\n",
    "print(c)"
   ]
  },
  {
   "cell_type": "markdown",
   "id": "c8b5adcf-a266-4e51-a2a3-80c066f13ee4",
   "metadata": {},
   "source": [
    "#### listcomps vs map and filter"
   ]
  },
  {
   "cell_type": "code",
   "execution_count": 19,
   "id": "b41d23d9-20b1-48f7-94a5-2f3a0bbf8af0",
   "metadata": {},
   "outputs": [
    {
     "name": "stdout",
     "output_type": "stream",
     "text": [
      "1.11 µs ± 65.3 ns per loop (mean ± std. dev. of 7 runs, 1,000,000 loops each)\n"
     ]
    }
   ],
   "source": [
    "symbols = '$a¢£bc¥€e¤'\n",
    "%timeit [code for s in symbols if (code := ord(s)) > 127]"
   ]
  },
  {
   "cell_type": "code",
   "execution_count": 20,
   "id": "fb005b98-d5af-4f89-aeee-5acf502f761a",
   "metadata": {},
   "outputs": [
    {
     "name": "stdout",
     "output_type": "stream",
     "text": [
      "1.52 µs ± 47.1 ns per loop (mean ± std. dev. of 7 runs, 1,000,000 loops each)\n"
     ]
    }
   ],
   "source": [
    "%timeit list(str(filter(lambda c: c > 127, map(ord, symbols))))\n"
   ]
  },
  {
   "cell_type": "markdown",
   "id": "12a6a7ca-c69b-4492-b1ef-7c5c05f15c0d",
   "metadata": {},
   "source": [
    "#### Cartesian products "
   ]
  },
  {
   "cell_type": "code",
   "execution_count": 1,
   "id": "04d019df-e3c3-4e50-a80a-b2f62017429b",
   "metadata": {},
   "outputs": [
    {
     "name": "stdout",
     "output_type": "stream",
     "text": [
      "[('negru', 'S'), ('negru', 'M'), ('negru', 'L'), ('alb', 'S'), ('alb', 'M'), ('alb', 'L')]\n",
      "[('negru', 'S'), ('alb', 'S'), ('negru', 'M'), ('alb', 'M'), ('negru', 'L'), ('alb', 'L')]\n"
     ]
    }
   ],
   "source": [
    "colors = ['negru', 'alb']\n",
    "sizes  = ['S', 'M', 'L']\n",
    "\n",
    "color_then_size = [(color, size) for color in colors for size in sizes]\n",
    "size_then_color = [(color, size) for size in sizes for color in colors]\n",
    "\n",
    "print(color_then_size)\n",
    "print(size_then_color)"
   ]
  },
  {
   "cell_type": "markdown",
   "id": "92c83012-74a2-4eb2-bc56-9408adcbc5c7",
   "metadata": {},
   "source": [
    "### Generator expressions\n",
    "*Unlike list comprehensions they yield items one by one.*\n",
    "\n",
    "*They look the same as listcomps but are enclosed in ()*"
   ]
  },
  {
   "cell_type": "code",
   "execution_count": 3,
   "id": "12ad0255-355a-408a-9358-bedb5871c4d7",
   "metadata": {},
   "outputs": [
    {
     "name": "stdout",
     "output_type": "stream",
     "text": [
      "negru\tS\n",
      "negru\tM\n",
      "negru\tL\n",
      "alb\tS\n",
      "alb\tM\n",
      "alb\tL\n"
     ]
    }
   ],
   "source": [
    "for tshirt in (f'{c}\\t{s}' for c in colors for s in sizes):\n",
    "    print(tshirt)"
   ]
  },
  {
   "cell_type": "markdown",
   "id": "2103ef52-de0e-4808-b829-8020b7b2efc0",
   "metadata": {},
   "source": [
    "## Tuples\n",
    "#### Tuples as resords"
   ]
  },
  {
   "cell_type": "code",
   "execution_count": 5,
   "id": "62778ab3-3c1d-4d2c-8edd-004e0a716181",
   "metadata": {},
   "outputs": [
    {
     "name": "stdout",
     "output_type": "stream",
     "text": [
      "BRA / CE342567\n",
      "ESP / XDA205856\n"
     ]
    },
    {
     "ename": "TypeError",
     "evalue": "not all arguments converted during string formatting",
     "output_type": "error",
     "traceback": [
      "\u001b[1;31m---------------------------------------------------------------------------\u001b[0m",
      "\u001b[1;31mTypeError\u001b[0m                                 Traceback (most recent call last)",
      "Input \u001b[1;32mIn [5]\u001b[0m, in \u001b[0;36m<cell line: 2>\u001b[1;34m()\u001b[0m\n\u001b[0;32m      1\u001b[0m traveler_ids \u001b[38;5;241m=\u001b[39m [(\u001b[38;5;124m'\u001b[39m\u001b[38;5;124mUSA\u001b[39m\u001b[38;5;124m'\u001b[39m, \u001b[38;5;124m'\u001b[39m\u001b[38;5;124m31195855\u001b[39m\u001b[38;5;124m'\u001b[39m, \u001b[38;5;124m'\u001b[39m\u001b[38;5;124mINV\u001b[39m\u001b[38;5;124m'\u001b[39m), (\u001b[38;5;124m'\u001b[39m\u001b[38;5;124mBRA\u001b[39m\u001b[38;5;124m'\u001b[39m, \u001b[38;5;124m'\u001b[39m\u001b[38;5;124mCE342567\u001b[39m\u001b[38;5;124m'\u001b[39m), (\u001b[38;5;124m'\u001b[39m\u001b[38;5;124mESP\u001b[39m\u001b[38;5;124m'\u001b[39m, \u001b[38;5;124m'\u001b[39m\u001b[38;5;124mXDA205856\u001b[39m\u001b[38;5;124m'\u001b[39m)]\n\u001b[0;32m      2\u001b[0m \u001b[38;5;28;01mfor\u001b[39;00m passport \u001b[38;5;129;01min\u001b[39;00m \u001b[38;5;28msorted\u001b[39m(traveler_ids):\n\u001b[1;32m----> 3\u001b[0m     \u001b[38;5;28mprint\u001b[39m(\u001b[38;5;124;43m'\u001b[39;49m\u001b[38;5;132;43;01m%s\u001b[39;49;00m\u001b[38;5;124;43m / \u001b[39;49m\u001b[38;5;132;43;01m%s\u001b[39;49;00m\u001b[38;5;124;43m'\u001b[39;49m\u001b[43m \u001b[49m\u001b[38;5;241;43m%\u001b[39;49m\u001b[43m \u001b[49m\u001b[43mpassport\u001b[49m)\n",
      "\u001b[1;31mTypeError\u001b[0m: not all arguments converted during string formatting"
     ]
    }
   ],
   "source": [
    "traveler_ids = [('USA', '31195855', 'INV'), ('BRA', 'CE342567'), ('ESP', 'XDA205856')]\n",
    "for passport in sorted(traveler_ids):\n",
    "    print('%s / %s' % passport) # it expects strictly 2 string"
   ]
  },
  {
   "cell_type": "code",
   "execution_count": 8,
   "id": "48f27f6c-feb8-41da-abbc-4153888bcebf",
   "metadata": {},
   "outputs": [
    {
     "name": "stdout",
     "output_type": "stream",
     "text": [
      "USA\n"
     ]
    },
    {
     "ename": "ValueError",
     "evalue": "not enough values to unpack (expected 3, got 2)",
     "output_type": "error",
     "traceback": [
      "\u001b[1;31m---------------------------------------------------------------------------\u001b[0m",
      "\u001b[1;31mValueError\u001b[0m                                Traceback (most recent call last)",
      "Input \u001b[1;32mIn [8]\u001b[0m, in \u001b[0;36m<cell line: 1>\u001b[1;34m()\u001b[0m\n\u001b[1;32m----> 1\u001b[0m \u001b[38;5;28;01mfor\u001b[39;00m country, _, _ \u001b[38;5;129;01min\u001b[39;00m traveler_ids:\n\u001b[0;32m      2\u001b[0m     \u001b[38;5;28mprint\u001b[39m(country)\n",
      "\u001b[1;31mValueError\u001b[0m: not enough values to unpack (expected 3, got 2)"
     ]
    }
   ],
   "source": [
    "for country, _, _ in traveler_ids: # yet again it expects the same number of fields in tuple\n",
    "    print(country)"
   ]
  },
  {
   "cell_type": "markdown",
   "id": "4b9ee2d0-5463-4199-85a0-c84cc76f6c24",
   "metadata": {},
   "source": [
    "#### Tuples as immutable lists"
   ]
  },
  {
   "cell_type": "code",
   "execution_count": 9,
   "id": "ed91fde0-20d9-4aaf-aafa-4ea2565d805c",
   "metadata": {},
   "outputs": [
    {
     "data": {
      "text/plain": [
       "True"
      ]
     },
     "execution_count": 9,
     "metadata": {},
     "output_type": "execute_result"
    }
   ],
   "source": [
    "a = (10, 'alpha', [1, 2])\n",
    "b = (10, 'alpha', [1, 2])\n",
    "a == b"
   ]
  },
  {
   "cell_type": "code",
   "execution_count": 10,
   "id": "7835d1bd-5c53-4615-8d6d-4e7e220e524b",
   "metadata": {},
   "outputs": [
    {
     "name": "stdout",
     "output_type": "stream",
     "text": [
      "False (10, 'alpha', [1, 2]) (10, 'alpha', [1, 2, 99])\n"
     ]
    }
   ],
   "source": [
    "# tuple is immutable, but list inside it is mutable:\n",
    "b[-1].append(99)\n",
    "print(a == b, a, b)"
   ]
  },
  {
   "cell_type": "markdown",
   "id": "8bf5559e-746b-4b38-a9ce-4a24c1518cdf",
   "metadata": {},
   "source": [
    "#### Mutability check"
   ]
  },
  {
   "cell_type": "code",
   "execution_count": 12,
   "id": "82c6bdfe-5cd4-4e27-b8f6-7e7c26d76f82",
   "metadata": {},
   "outputs": [
    {
     "name": "stdout",
     "output_type": "stream",
     "text": [
      "c has fixed value = True \ta has fixed value = False\n"
     ]
    }
   ],
   "source": [
    "def fixed(o):\n",
    "    try: \n",
    "        hash(o)\n",
    "    except TypeError:\n",
    "        return False\n",
    "    return True\n",
    "\n",
    "c = (10, 'alpha', (1, 2))\n",
    "print('c has fixed value =', fixed(c), '\\ta has fixed value =', fixed(a))"
   ]
  },
  {
   "cell_type": "code",
   "execution_count": null,
   "id": "a39ecbae-3533-40e6-a77f-5cfac3be9ca6",
   "metadata": {},
   "outputs": [],
   "source": []
  }
 ],
 "metadata": {
  "kernelspec": {
   "display_name": "Python 3",
   "language": "python",
   "name": "python3"
  },
  "language_info": {
   "codemirror_mode": {
    "name": "ipython",
    "version": 3
   },
   "file_extension": ".py",
   "mimetype": "text/x-python",
   "name": "python",
   "nbconvert_exporter": "python",
   "pygments_lexer": "ipython3",
   "version": "3.10.5"
  }
 },
 "nbformat": 4,
 "nbformat_minor": 5
}
