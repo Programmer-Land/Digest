{
 "cells": [
  {
   "cell_type": "markdown",
   "id": "fad407fb-b29c-4fbf-895c-959e8e76fd87",
   "metadata": {},
   "source": [
    "# What can we match with regular expressions?"
   ]
  },
  {
   "cell_type": "code",
   "execution_count": null,
   "id": "75d94fdd-2aa3-4b63-af9b-53cccc2a8199",
   "metadata": {},
   "outputs": [],
   "source": [
    "import re"
   ]
  },
  {
   "cell_type": "markdown",
   "id": "38f9a276-8a27-4e87-9c87-655a0752e123",
   "metadata": {},
   "source": [
    "### 0. Word o phrase as it is"
   ]
  },
  {
   "cell_type": "code",
   "execution_count": null,
   "id": "1968aa03-f715-41bc-8a3f-2dbf85ed48ac",
   "metadata": {},
   "outputs": [],
   "source": [
    "txt = 'What we match\\nwhen we match a regex?'\n",
    "print(txt)"
   ]
  },
  {
   "cell_type": "code",
   "execution_count": null,
   "id": "3a3fb8e6-55fd-4395-b030-0e92d72dc261",
   "metadata": {},
   "outputs": [],
   "source": [
    "mtch = re.search('we match', txt)\n",
    "if mtch:\n",
    "    print(mtch.group())"
   ]
  },
  {
   "cell_type": "markdown",
   "id": "47b8794d-7a5d-42eb-8e16-0c5d65be35cd",
   "metadata": {},
   "source": [
    "### 1. One of given chars - a set or interval of chars in []"
   ]
  },
  {
   "cell_type": "code",
   "execution_count": null,
   "id": "3c7865a7-277d-4b1d-a341-1037c4522b89",
   "metadata": {},
   "outputs": [],
   "source": [
    "re.findall(r'[wW]', txt)"
   ]
  },
  {
   "cell_type": "code",
   "execution_count": null,
   "id": "a5955f3a-149d-4ce1-9223-5ffc988c7b92",
   "metadata": {},
   "outputs": [],
   "source": [
    "re.findall(r'[A-Z]', txt)"
   ]
  },
  {
   "cell_type": "code",
   "execution_count": null,
   "id": "8a4a02f2-3111-4b32-8d8b-6ef5ef00bd33",
   "metadata": {},
   "outputs": [],
   "source": [
    "re.findall(r'[m-u]', txt)"
   ]
  },
  {
   "cell_type": "markdown",
   "id": "54764ff1-9660-4565-8a64-ba12e63365e6",
   "metadata": {},
   "source": [
    "### 2. Any char but given - a set of chars preceded with ^ in []"
   ]
  },
  {
   "cell_type": "code",
   "execution_count": null,
   "id": "6f59d2c7-a086-498e-a702-294d51119512",
   "metadata": {},
   "outputs": [],
   "source": [
    "print(re.findall(r'[^Wwtmnchrgx]', txt))"
   ]
  },
  {
   "cell_type": "markdown",
   "id": "f409aa32-46bb-446d-9e0f-a2e241eeeef9",
   "metadata": {},
   "source": [
    "### 3. One or none - ? after a char or group"
   ]
  },
  {
   "cell_type": "code",
   "execution_count": null,
   "id": "17f1920f-5086-4fad-8e9f-8a67b3a68595",
   "metadata": {},
   "outputs": [],
   "source": [
    "re.findall('[Ww]e?', txt)"
   ]
  },
  {
   "cell_type": "code",
   "execution_count": null,
   "id": "8eb280bf-d382-4ba1-b411-b7c895ce9955",
   "metadata": {},
   "outputs": [],
   "source": [
    "re.findall(r'[Ww](ha)?', txt) # unexpected result - I'd expect ['Wha', 'w', 'w', 'w']"
   ]
  },
  {
   "cell_type": "code",
   "execution_count": null,
   "id": "51c5ddf0-9a0c-4ab0-920f-78ee3ecc9911",
   "metadata": {},
   "outputs": [],
   "source": [
    "for i in re.finditer(r'[Ww](ha)?', txt):\n",
    "    print(i)"
   ]
  },
  {
   "cell_type": "markdown",
   "id": "f66fb255-47ca-4b91-80cd-e8f16f1a0ad5",
   "metadata": {},
   "source": [
    "### 4. 0..any number of occurences - *"
   ]
  },
  {
   "cell_type": "code",
   "execution_count": null,
   "id": "4338933c-a85d-45a1-9daf-2f9239de8160",
   "metadata": {},
   "outputs": [],
   "source": [
    "re.findall('\\$[0-9]*', 'As little as $1, as much as $678, just give me some $') # $ has special meaning, escape it to mean just $"
   ]
  },
  {
   "cell_type": "markdown",
   "id": "1f96f3ff-63df-4e47-a859-8432681cc793",
   "metadata": {},
   "source": [
    "### 5. At least one occurence - +"
   ]
  },
  {
   "cell_type": "code",
   "execution_count": null,
   "id": "919c4e48-dfa7-48ce-82c4-5533379deac6",
   "metadata": {},
   "outputs": [],
   "source": [
    "re.findall('\\$[0-9]+', 'As little as $1, as much as $678, just give me some $')"
   ]
  },
  {
   "cell_type": "markdown",
   "id": "0275ee10-c64f-4952-ada1-888007c41c97",
   "metadata": {},
   "source": [
    "### 6. Any single char - ."
   ]
  },
  {
   "cell_type": "code",
   "execution_count": null,
   "id": "14909ebd-a371-4a29-99bb-9a2abe145535",
   "metadata": {},
   "outputs": [],
   "source": [
    "re.findall('beg.n', \"begin or beg'n or begun\")"
   ]
  },
  {
   "cell_type": "markdown",
   "id": "169b7c0d-b911-4733-b042-3238e7b2d160",
   "metadata": {},
   "source": [
    "### 7. Start of the string or line - ^"
   ]
  },
  {
   "cell_type": "code",
   "execution_count": null,
   "id": "3554296b-ace2-4d6a-a62c-f864198305a1",
   "metadata": {},
   "outputs": [],
   "source": [
    "re.findall('^[Ww]', txt)"
   ]
  },
  {
   "cell_type": "code",
   "execution_count": null,
   "id": "3ae73fbf-9c89-4aa6-8fe8-1ed456ec5669",
   "metadata": {},
   "outputs": [],
   "source": [
    "re.findall('^[Ww]', txt, re.M) # re.M - match line rather than string beginning. Full form is re.MULTILINE"
   ]
  },
  {
   "cell_type": "markdown",
   "id": "a1c857a4-05c2-481e-8ce3-df65ba3172dd",
   "metadata": {},
   "source": [
    "### 8. End of the string or line - $"
   ]
  },
  {
   "cell_type": "code",
   "execution_count": null,
   "id": "3ee7651d-a924-4e34-8597-6a3963ed5b37",
   "metadata": {},
   "outputs": [],
   "source": [
    "re.findall('...$', txt)"
   ]
  },
  {
   "cell_type": "code",
   "execution_count": null,
   "id": "8b14c4f7-a837-4cb5-b937-e670a4666deb",
   "metadata": {},
   "outputs": [],
   "source": [
    "re.findall('...$', txt, re.M)"
   ]
  },
  {
   "cell_type": "markdown",
   "id": "a4c9d63e-1e6f-446c-bcfe-76a7a3662376",
   "metadata": {},
   "source": [
    "### 8.1. If in multiline mode we'd like to match only the end of the string - use \\Z instead of $"
   ]
  },
  {
   "cell_type": "code",
   "execution_count": null,
   "id": "8e7874db-30d1-4d8d-982d-ab9d293e3bf2",
   "metadata": {},
   "outputs": [],
   "source": [
    "re.findall('...\\Z', txt, re.M)"
   ]
  },
  {
   "cell_type": "markdown",
   "id": "62815409-eb01-4be4-b7b5-09aca71bb5a8",
   "metadata": {},
   "source": [
    "### 9.0. Word boundary - \\b \n",
    "#### *word is a sequence of letters, digits and underscores*"
   ]
  },
  {
   "cell_type": "code",
   "execution_count": null,
   "id": "9218d425-5d48-4f10-9f65-dceac9c03584",
   "metadata": {},
   "outputs": [],
   "source": [
    "re.findall(r'\\b[Tt]he\\b', 'The% sign, other sign')"
   ]
  },
  {
   "cell_type": "markdown",
   "id": "e0e6ed73-5617-4e64-92f1-2842ee9b755f",
   "metadata": {},
   "source": [
    "### 9.1. Opposite to word boundary - \\B \n",
    "#### *a match should be inside a word*"
   ]
  },
  {
   "cell_type": "code",
   "execution_count": null,
   "id": "ad32c71c-888b-4f8b-934b-00fb58017caa",
   "metadata": {},
   "outputs": [],
   "source": [
    "re.findall(r'\\B[Tt]he\\B', 'The sign, other sign')"
   ]
  },
  {
   "cell_type": "markdown",
   "id": "877d63ba-ce30-494a-86c9-2d8ec272a593",
   "metadata": {},
   "source": [
    "### 10. Either of patterns - |"
   ]
  },
  {
   "cell_type": "code",
   "execution_count": null,
   "id": "c326d00d-2cd2-44ad-8b6d-48815ceedead",
   "metadata": {},
   "outputs": [],
   "source": [
    "re.findall(r'cat|dog', 'cats or dogs - I equally love both')"
   ]
  },
  {
   "cell_type": "code",
   "execution_count": null,
   "id": "babd981d-aca1-45ed-b798-d3eef9cab73d",
   "metadata": {},
   "outputs": [],
   "source": [
    " for i in re.finditer(r'[Cc]herr(y|ies)', 'Cherry trees give us cherries'):\n",
    "        print(i)"
   ]
  },
  {
   "cell_type": "code",
   "execution_count": null,
   "id": "8b49b0af-591e-4f67-9f9d-4a91431671f2",
   "metadata": {},
   "outputs": [],
   "source": []
  }
 ],
 "metadata": {
  "kernelspec": {
   "display_name": "Python 3 (ipykernel)",
   "language": "python",
   "name": "python3"
  },
  "language_info": {
   "codemirror_mode": {
    "name": "ipython",
    "version": 3
   },
   "file_extension": ".py",
   "mimetype": "text/x-python",
   "name": "python",
   "nbconvert_exporter": "python",
   "pygments_lexer": "ipython3",
   "version": "3.9.6"
  }
 },
 "nbformat": 4,
 "nbformat_minor": 5
}
