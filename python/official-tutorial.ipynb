{
 "cells": [
  {
   "cell_type": "markdown",
   "id": "ec3fcb84-8c38-40a3-84cb-ca0a75c118ce",
   "metadata": {},
   "source": [
    "# Some facts from <a href=\"https://docs.python.org/3/tutorial/\"> official Python tutorial </a>\n",
    "*\"Flying by instructions\" is sometimes the most time-efficient way of doing things, but it's one-off approach.*\n",
    "\n",
    "*When you start using tool daily you should devote some time to its general exploration.*\n",
    "\n",
    "*For me as a C/C++ programmer the most interesting are Python features that do not have direct analog in C/C++*"
   ]
  },
  {
   "cell_type": "markdown",
   "id": "fd701341-8312-4b2f-a59a-dc48f1169f5d",
   "metadata": {
    "tags": []
   },
   "source": [
    "## Strings and string literals"
   ]
  },
  {
   "cell_type": "markdown",
   "id": "79418b36-8dd3-4eb5-93c7-8ecba27a55f2",
   "metadata": {
    "tags": []
   },
   "source": [
    "#### Regular vs raw string\n",
    "*NB: String concatenation by placing **literals** one after another*"
   ]
  },
  {
   "cell_type": "code",
   "execution_count": 7,
   "id": "eae65b02-7999-4992-9e6b-d4bba773360e",
   "metadata": {},
   "outputs": [
    {
     "name": "stdout",
     "output_type": "stream",
     "text": [
      "C:\\some\\name\n",
      "C:\\some\\name\n",
      "C:\\some\\name\\\n",
      "C:\\some\\name\\\n",
      "C:\\some\\name\\\n"
     ]
    }
   ],
   "source": [
    "print('C:\\some\\\\name')\n",
    "print(r'C:\\some\\name')\n",
    "\n",
    "# Single \\ at the end of raw string needs workaround\n",
    "print('C:\\some\\\\name\\\\')\n",
    "print(r'C:\\some\\name' '\\\\')\n",
    "# or\n",
    "rs = (r'C:\\some\\name' # to concatenate literals over line break put them in parentheses\n",
    "     '\\\\')\n",
    "print(rs)"
   ]
  },
  {
   "cell_type": "markdown",
   "id": "f69799b3-3454-44fe-b7f0-728b7644a8e9",
   "metadata": {},
   "source": [
    "#### \\ at the beginning of tripple-quoted string removes leading empty line"
   ]
  },
  {
   "cell_type": "code",
   "execution_count": 5,
   "id": "5b5e3bde-0ff4-458e-b1eb-a658b81be50b",
   "metadata": {},
   "outputs": [
    {
     "name": "stdout",
     "output_type": "stream",
     "text": [
      "----------------------------------------\n",
      "Usage: thingy [OPTIONS]\n",
      "     -h                        Display this usage message\n",
      "     -H hostname               Hostname to connect to\n",
      "\n",
      "----------------------------------------\n",
      "\n",
      "Usage: thingy [OPTIONS]\n",
      "     -h                        Display this usage message\n",
      "     -H hostname               Hostname to connect to\n",
      "\n"
     ]
    }
   ],
   "source": [
    "# With\n",
    "print(40 * '-')\n",
    "print(\"\"\"\\\n",
    "Usage: thingy [OPTIONS]\n",
    "     -h                        Display this usage message\n",
    "     -H hostname               Hostname to connect to\n",
    "\"\"\")\n",
    "\n",
    "# and without\n",
    "print(40 * '-')\n",
    "print(\"\"\"\n",
    "Usage: thingy [OPTIONS]\n",
    "     -h                        Display this usage message\n",
    "     -H hostname               Hostname to connect to\n",
    "\"\"\")\n"
   ]
  },
  {
   "cell_type": "markdown",
   "id": "8fcf6a4f-8a37-4597-8e96-209978b96503",
   "metadata": {},
   "source": [
    "#### Slicing is more forgiving than direct indexing"
   ]
  },
  {
   "cell_type": "code",
   "execution_count": 10,
   "id": "0c8e9830-a7c5-4b86-b5c7-cf63ef8693bd",
   "metadata": {},
   "outputs": [
    {
     "data": {
      "text/plain": [
       "''"
      ]
     },
     "execution_count": 10,
     "metadata": {},
     "output_type": "execute_result"
    }
   ],
   "source": [
    "'Python'[41:42]"
   ]
  },
  {
   "cell_type": "code",
   "execution_count": 12,
   "id": "392e496b-193a-46b8-9ac9-51513c38044a",
   "metadata": {},
   "outputs": [
    {
     "ename": "IndexError",
     "evalue": "string index out of range",
     "output_type": "error",
     "traceback": [
      "\u001b[1;31m---------------------------------------------------------------------------\u001b[0m",
      "\u001b[1;31mIndexError\u001b[0m                                Traceback (most recent call last)",
      "Input \u001b[1;32mIn [12]\u001b[0m, in \u001b[0;36m<cell line: 1>\u001b[1;34m()\u001b[0m\n\u001b[1;32m----> 1\u001b[0m \u001b[38;5;124;43m'\u001b[39;49m\u001b[38;5;124;43mPython\u001b[39;49m\u001b[38;5;124;43m'\u001b[39;49m\u001b[43m[\u001b[49m\u001b[38;5;241;43m41\u001b[39;49m\u001b[43m]\u001b[49m\n",
      "\u001b[1;31mIndexError\u001b[0m: string index out of range"
     ]
    }
   ],
   "source": [
    "'Python'[41]"
   ]
  },
  {
   "cell_type": "markdown",
   "id": "96fa4d1a-0c87-4ae9-b449-1e0e4c975764",
   "metadata": {},
   "source": [
    "### Formatting Python strings for C/C++ programmers\n",
    "#### f\"\", string.format(), printf-style, string.Template formatting\n",
    "*val!s ≡ str(val), val!r ≡ repr(val), val!a ≡ ascii(val)*"
   ]
  },
  {
   "cell_type": "code",
   "execution_count": 22,
   "id": "cd8c07cb-cd24-4f64-b3b7-a14b9e3176a6",
   "metadata": {},
   "outputs": [
    {
     "name": "stdout",
     "output_type": "stream",
     "text": [
      "He said his name is 'Fred' and he is from 'D\\xfcsseldorf'\n",
      "He said his name is 'Fred' and he is from 'D\\xfcsseldorf'\n",
      "He said his name is 'Fred' and he is from 'D\\xfcsseldorf'\n",
      "He said his name is 'Fred' and he is from 'D\\xfcsseldorf'\n",
      "He said his name is $name and he is from 'D\\xfcsseldorf'\n"
     ]
    }
   ],
   "source": [
    "name = 'Fred'\n",
    "city = 'Düsseldorf'\n",
    "print(f'He said his name is {name!r} and he is from {city!a}')\n",
    "print('He said his name is {1!r} and he is from {0!a}'.format(city, name))\n",
    "print('He said his name is %(name)r and he is from %(city)a' % {'name': name, 'city': city})\n",
    "\n",
    "from string import Template\n",
    "s = Template('He said his name is $name and he is from $city')\n",
    "print(s.substitute(name = repr(name), city = ascii(city)))\n",
    "\n",
    "print(s.safe_substitute(city = ascii(city)))"
   ]
  },
  {
   "cell_type": "markdown",
   "id": "2218b72c-fe6b-462d-ae4e-8fa809276d93",
   "metadata": {},
   "source": [
    "#### Precision means overall number of digits rather than number of digits after the decimal point \n",
    "#### in all cases but printf-style formatting"
   ]
  },
  {
   "cell_type": "code",
   "execution_count": 20,
   "id": "141bddbb-8554-459e-b57d-97e0ff3e4bd9",
   "metadata": {},
   "outputs": [
    {
     "name": "stdout",
     "output_type": "stream",
     "text": [
      "value:      12.3\n",
      "value:      12.3\n",
      "value:      12.3\n"
     ]
    }
   ],
   "source": [
    "width = 10\n",
    "precision = 3\n",
    "val = 12.34567\n",
    "print(f'value:{val:{width}.{precision}}')\n",
    "print('value:{:10.3}'.format(val)) #cannot make it work with vars\n",
    "print('value:%(val)10.1f' % {'val': val}) # NB: precision \n"
   ]
  },
  {
   "cell_type": "markdown",
   "id": "ce54632a-0178-4ce6-b126-db3d2ba35f31",
   "metadata": {},
   "source": [
    "#### Example of date formatting"
   ]
  },
  {
   "cell_type": "code",
   "execution_count": 24,
   "id": "586b5cff-3336-4f9d-8baa-d441f856a18c",
   "metadata": {},
   "outputs": [
    {
     "name": "stdout",
     "output_type": "stream",
     "text": [
      "January 28, 2023\n",
      "January 28, 2023\n"
     ]
    }
   ],
   "source": [
    "from datetime import datetime\n",
    "\n",
    "today = datetime(year = 2023, month = 1, day = 28)\n",
    "print(f'{today:%B %d, %Y}')\n",
    "print('{:%B %d, %Y}'.format(today))\n"
   ]
  },
  {
   "cell_type": "markdown",
   "id": "ceb50984-7c1c-4bb2-bfff-d70493ebe4fa",
   "metadata": {},
   "source": [
    "#### Use = to show variable name\n",
    "*NB: whitespaces are preserved*"
   ]
  },
  {
   "cell_type": "code",
   "execution_count": 26,
   "id": "2f8ea1c7-8c9d-417e-b83c-78682c2d41bb",
   "metadata": {},
   "outputs": [
    {
     "name": "stdout",
     "output_type": "stream",
     "text": [
      "today=January 28, 2023\n",
      "foo = 'bar'\n"
     ]
    }
   ],
   "source": [
    "print(f'{today=:%B %d, %Y}')\n",
    "\n",
    "foo = 'bar'\n",
    "print(f'{foo = }')"
   ]
  },
  {
   "cell_type": "markdown",
   "id": "41a809ea-4cdf-4a33-850a-0d42fb41a28f",
   "metadata": {},
   "source": [
    "#### Integer base"
   ]
  },
  {
   "cell_type": "code",
   "execution_count": 34,
   "id": "5609f062-ddc4-4788-bd90-586d4cafdbbf",
   "metadata": {},
   "outputs": [
    {
     "name": "stdout",
     "output_type": "stream",
     "text": [
      "0x3e8 0b1111101000 0o1750\n",
      "0x3e8 0b1111101000 0o1750\n",
      "0x3e8d 0o1750d\n"
     ]
    }
   ],
   "source": [
    "n = 1000\n",
    "print(f'{n:#0x} {n:#b} {n:#o}')\n",
    "print('{0:#0x} {0:#b} {0:#o}'.format(n))\n",
    "print('%(n)#0xd %(n)#od' % {'n': n}) #could not find binary format code for this example"
   ]
  },
  {
   "cell_type": "markdown",
   "id": "5ebb7156-66c4-4692-be4a-b8fd0ed19877",
   "metadata": {},
   "source": [
    "#### Alterate quotes for correct result, backslashes are not allowed"
   ]
  },
  {
   "cell_type": "code",
   "execution_count": 34,
   "id": "343555d1-222f-4fcc-b981-bde3114c2b9a",
   "metadata": {},
   "outputs": [
    {
     "name": "stdout",
     "output_type": "stream",
     "text": [
      "a[\"x\"] = 120\n",
      "new line code: 10\n",
      "\"a\" code: 97\n"
     ]
    }
   ],
   "source": [
    "a = {'x': ord('x'), 'y': ord('y')}\n",
    "newline = ord('\\n')\n",
    "\n",
    "print(f'{a[\"x\"] = }')\n",
    "print(f'new line code: {newline}')\n",
    "print(f'\"a\" code: {ord(\"a\")}')"
   ]
  },
  {
   "cell_type": "code",
   "execution_count": 35,
   "id": "799fb630-4493-4e26-b2d5-9c5b68034b63",
   "metadata": {},
   "outputs": [
    {
     "ename": "SyntaxError",
     "evalue": "f-string expression part cannot include a backslash (1603011531.py, line 2)",
     "output_type": "error",
     "traceback": [
      "\u001b[1;36m  Input \u001b[1;32mIn [35]\u001b[1;36m\u001b[0m\n\u001b[1;33m    f'{a[\\'x\\'] = }'\u001b[0m\n\u001b[1;37m                    ^\u001b[0m\n\u001b[1;31mSyntaxError\u001b[0m\u001b[1;31m:\u001b[0m f-string expression part cannot include a backslash\n"
     ]
    }
   ],
   "source": [
    "# But not:\n",
    "f'{a[\\'x\\'] = }'"
   ]
  },
  {
   "cell_type": "code",
   "execution_count": 36,
   "id": "a2892969-b20f-4684-a0cd-a5a763afa6aa",
   "metadata": {},
   "outputs": [
    {
     "ename": "SyntaxError",
     "evalue": "f-string expression part cannot include a backslash (710286865.py, line 2)",
     "output_type": "error",
     "traceback": [
      "\u001b[1;36m  Input \u001b[1;32mIn [36]\u001b[1;36m\u001b[0m\n\u001b[1;33m    f\"new line code: {ord('\\n')}\"\u001b[0m\n\u001b[1;37m                                 ^\u001b[0m\n\u001b[1;31mSyntaxError\u001b[0m\u001b[1;31m:\u001b[0m f-string expression part cannot include a backslash\n"
     ]
    }
   ],
   "source": [
    "# or\n",
    "f\"new line code: {ord('\\n')}\""
   ]
  },
  {
   "cell_type": "markdown",
   "id": "12dbd4c8-a5f9-4a8e-9630-a8116b1f2b2b",
   "metadata": {},
   "source": [
    "#### Formatted string literals cannot be used as docstrings even if they do not include expressions"
   ]
  },
  {
   "cell_type": "code",
   "execution_count": 37,
   "id": "7301525e-b4f6-451a-aa1d-55aa878c89f1",
   "metadata": {},
   "outputs": [
    {
     "name": "stdout",
     "output_type": "stream",
     "text": [
      "A doc string\n",
      "None\n",
      "None\n"
     ]
    }
   ],
   "source": [
    "def fun0():\n",
    "    'A doc string'\n",
    "    pass\n",
    "\n",
    "def fun1():\n",
    "    f'Not a doc string'\n",
    "    pass\n",
    "\n",
    "n = 8\n",
    "def fun2():\n",
    "    'Not a doc string {}'.format(n)\n",
    "    pass\n",
    "\n",
    "print(fun0.__doc__)\n",
    "print(fun1.__doc__)\n",
    "print(fun2.__doc__)"
   ]
  },
  {
   "cell_type": "code",
   "execution_count": 45,
   "id": "dd4f3d0d-7fad-40ad-8859-1fa350ff9c70",
   "metadata": {},
   "outputs": [
    {
     "name": "stdout",
     "output_type": "stream",
     "text": [
      "1234567.89\n",
      "1.23457e+06\n"
     ]
    }
   ],
   "source": [
    "num = 1234567.89\n",
    "print('{}'.format(num))\n",
    "print('{:n}'.format(num))"
   ]
  },
  {
   "cell_type": "markdown",
   "id": "0e2dd464-85e8-402e-9b14-7b8c45359621",
   "metadata": {
    "tags": []
   },
   "source": [
    "## switch-case \n",
    "#### match-case in Python is more complicated and more useful than switch-case in C/C++"
   ]
  },
  {
   "cell_type": "markdown",
   "id": "4ca21cfb-4a41-4e66-96a0-428be734ccd9",
   "metadata": {},
   "source": [
    "*case _: ≡ default:*"
   ]
  },
  {
   "cell_type": "code",
   "execution_count": 38,
   "id": "09cf09f6-9ee0-4318-8a28-02c1bab6bb1f",
   "metadata": {},
   "outputs": [
    {
     "data": {
      "text/plain": [
       "'Something is wrong with the internet'"
      ]
     },
     "execution_count": 38,
     "metadata": {},
     "output_type": "execute_result"
    }
   ],
   "source": [
    "def error2str(err):\n",
    "    match err:\n",
    "        case 400:\n",
    "            return 'Bad request'\n",
    "        case 401 | 403 | 404:\n",
    "            return 'Not allowed'\n",
    "        case _:\n",
    "            return 'Something is wrong with the internet'\n",
    "        \n",
    "error2str(418)"
   ]
  },
  {
   "cell_type": "markdown",
   "id": "39452273-288b-4caa-96c8-c3b0351b1cbe",
   "metadata": {},
   "source": [
    "#### tuple match"
   ]
  },
  {
   "cell_type": "code",
   "execution_count": 39,
   "id": "8e7d484b-f79a-4ff0-aefc-d8197a072ff1",
   "metadata": {},
   "outputs": [
    {
     "name": "stdout",
     "output_type": "stream",
     "text": [
      "Origin\n",
      "x = 2.5\n",
      "y = -0.1\n",
      "x = -1, y = 4\n"
     ]
    },
    {
     "ename": "ValueError",
     "evalue": "Not a point",
     "output_type": "error",
     "traceback": [
      "\u001b[1;31m---------------------------------------------------------------------------\u001b[0m",
      "\u001b[1;31mValueError\u001b[0m                                Traceback (most recent call last)",
      "Input \u001b[1;32mIn [39]\u001b[0m, in \u001b[0;36m<cell line: 18>\u001b[1;34m()\u001b[0m\n\u001b[0;32m     16\u001b[0m show_point((\u001b[38;5;241m0\u001b[39m, \u001b[38;5;241m-\u001b[39m\u001b[38;5;241m0.1\u001b[39m))\n\u001b[0;32m     17\u001b[0m show_point((\u001b[38;5;241m-\u001b[39m\u001b[38;5;241m1\u001b[39m, \u001b[38;5;241m4\u001b[39m))\n\u001b[1;32m---> 18\u001b[0m \u001b[43mshow_point\u001b[49m\u001b[43m(\u001b[49m\u001b[43m(\u001b[49m\u001b[38;5;241;43m1\u001b[39;49m\u001b[43m,\u001b[49m\u001b[43m \u001b[49m\u001b[38;5;241;43m2\u001b[39;49m\u001b[43m,\u001b[49m\u001b[43m \u001b[49m\u001b[38;5;241;43m3\u001b[39;49m\u001b[43m)\u001b[49m\u001b[43m)\u001b[49m\n",
      "Input \u001b[1;32mIn [39]\u001b[0m, in \u001b[0;36mshow_point\u001b[1;34m(pt)\u001b[0m\n\u001b[0;32m      1\u001b[0m \u001b[38;5;28;01mdef\u001b[39;00m \u001b[38;5;21mshow_point\u001b[39m(pt): \u001b[38;5;66;03m# tuple (x, y) expected\u001b[39;00m\n\u001b[0;32m      2\u001b[0m     \u001b[38;5;28;01mmatch\u001b[39;00m(pt):\n\u001b[0;32m      3\u001b[0m         \u001b[38;5;28;01mcase\u001b[39;00m (\u001b[38;5;241m0\u001b[39m, \u001b[38;5;241m0\u001b[39m): \n\u001b[0;32m      4\u001b[0m             \u001b[38;5;28mprint\u001b[39m(\u001b[38;5;124m'\u001b[39m\u001b[38;5;124mOrigin\u001b[39m\u001b[38;5;124m'\u001b[39m)\n\u001b[0;32m      5\u001b[0m         \u001b[38;5;28;01mcase\u001b[39;00m (\u001b[38;5;241m0\u001b[39m, y):\n\u001b[0;32m      6\u001b[0m             \u001b[38;5;28mprint\u001b[39m(\u001b[38;5;124mf\u001b[39m\u001b[38;5;124m'\u001b[39m\u001b[38;5;124my = \u001b[39m\u001b[38;5;132;01m{\u001b[39;00my\u001b[38;5;132;01m}\u001b[39;00m\u001b[38;5;124m'\u001b[39m)\n\u001b[0;32m      7\u001b[0m         \u001b[38;5;28;01mcase\u001b[39;00m (x, \u001b[38;5;241m0\u001b[39m):\n\u001b[0;32m      8\u001b[0m             \u001b[38;5;28mprint\u001b[39m(\u001b[38;5;124mf\u001b[39m\u001b[38;5;124m'\u001b[39m\u001b[38;5;124mx = \u001b[39m\u001b[38;5;132;01m{\u001b[39;00mx\u001b[38;5;132;01m}\u001b[39;00m\u001b[38;5;124m'\u001b[39m)\n\u001b[0;32m      9\u001b[0m         \u001b[38;5;28;01mcase\u001b[39;00m (x, y):\n\u001b[0;32m     10\u001b[0m             \u001b[38;5;28mprint\u001b[39m(\u001b[38;5;124mf\u001b[39m\u001b[38;5;124m'\u001b[39m\u001b[38;5;124mx = \u001b[39m\u001b[38;5;132;01m{\u001b[39;00mx\u001b[38;5;132;01m}\u001b[39;00m\u001b[38;5;124m, y = \u001b[39m\u001b[38;5;132;01m{\u001b[39;00my\u001b[38;5;132;01m}\u001b[39;00m\u001b[38;5;124m'\u001b[39m)\n\u001b[0;32m     11\u001b[0m         \u001b[38;5;28;01mcase\u001b[39;00m \u001b[38;5;28;01m_\u001b[39;00m:\n\u001b[1;32m---> 12\u001b[0m             \u001b[38;5;28;01mraise\u001b[39;00m \u001b[38;5;167;01mValueError\u001b[39;00m(\u001b[38;5;124m'\u001b[39m\u001b[38;5;124mNot a point\u001b[39m\u001b[38;5;124m'\u001b[39m)\n",
      "\u001b[1;31mValueError\u001b[0m: Not a point"
     ]
    }
   ],
   "source": [
    "def show_point(pt): # tuple (x, y) expected\n",
    "    match(pt):\n",
    "        case (0, 0): \n",
    "            print('Origin')\n",
    "        case (0, y):\n",
    "            print(f'y = {y}')\n",
    "        case (x, 0):\n",
    "            print(f'x = {x}')\n",
    "        case (x, y):\n",
    "            print(f'x = {x}, y = {y}')\n",
    "        case _:\n",
    "            raise ValueError('Not a point')\n",
    "\n",
    "show_point((0, 0))\n",
    "show_point((2.5, 0))\n",
    "show_point((0, -0.1))\n",
    "show_point((-1, 4))\n",
    "show_point((1, 2, 3))"
   ]
  },
  {
   "cell_type": "markdown",
   "id": "ed81ea97-8360-43a8-b64f-9466adeeb8a9",
   "metadata": {},
   "source": [
    "#### This example is taken unchnaged from the tutorial fails but can easily be fixed"
   ]
  },
  {
   "cell_type": "code",
   "execution_count": 40,
   "id": "a51b23c0-3bb2-42ff-81c0-12c0c452e5ff",
   "metadata": {},
   "outputs": [
    {
     "name": "stdout",
     "output_type": "stream",
     "text": [
      "Somewhere else\n"
     ]
    },
    {
     "ename": "AttributeError",
     "evalue": "'Point' object has no attribute 'x'",
     "output_type": "error",
     "traceback": [
      "\u001b[1;31m---------------------------------------------------------------------------\u001b[0m",
      "\u001b[1;31mAttributeError\u001b[0m                            Traceback (most recent call last)",
      "Input \u001b[1;32mIn [40]\u001b[0m, in \u001b[0;36m<cell line: 20>\u001b[1;34m()\u001b[0m\n\u001b[0;32m     18\u001b[0m p \u001b[38;5;241m=\u001b[39m Point()\n\u001b[0;32m     19\u001b[0m where_is(p)\n\u001b[1;32m---> 20\u001b[0m \u001b[38;5;28mprint\u001b[39m(\u001b[43mp\u001b[49m\u001b[38;5;241;43m.\u001b[39;49m\u001b[43mx\u001b[49m, p\u001b[38;5;241m.\u001b[39my)\n",
      "\u001b[1;31mAttributeError\u001b[0m: 'Point' object has no attribute 'x'"
     ]
    }
   ],
   "source": [
    "class Point:\n",
    "    x: int\n",
    "    y: int\n",
    "\n",
    "def where_is(point):\n",
    "    match point:\n",
    "        case Point(x=0, y=0):\n",
    "            print(\"Origin\")\n",
    "        case Point(x=0, y=y):\n",
    "            print(f\"Y={y}\")\n",
    "        case Point(x=x, y=0):\n",
    "            print(f\"X={x}\")\n",
    "        case Point():\n",
    "            print(\"Somewhere else\")\n",
    "        case _:\n",
    "            print(\"Not a point\")\n",
    "            \n",
    "p = Point()\n",
    "where_is(p)\n",
    "print(p.x, p.y)"
   ]
  },
  {
   "cell_type": "code",
   "execution_count": 41,
   "id": "c441ac42-b9b6-4121-8f21-8b040eb5fca2",
   "metadata": {},
   "outputs": [
    {
     "ename": "TypeError",
     "evalue": "Point() takes no arguments",
     "output_type": "error",
     "traceback": [
      "\u001b[1;31m---------------------------------------------------------------------------\u001b[0m",
      "\u001b[1;31mTypeError\u001b[0m                                 Traceback (most recent call last)",
      "Input \u001b[1;32mIn [41]\u001b[0m, in \u001b[0;36m<cell line: 1>\u001b[1;34m()\u001b[0m\n\u001b[1;32m----> 1\u001b[0m p \u001b[38;5;241m=\u001b[39m \u001b[43mPoint\u001b[49m\u001b[43m(\u001b[49m\u001b[38;5;241;43m1\u001b[39;49m\u001b[43m,\u001b[49m\u001b[43m \u001b[49m\u001b[38;5;241;43m2\u001b[39;49m\u001b[43m)\u001b[49m\n\u001b[0;32m      2\u001b[0m where_is(p)\n",
      "\u001b[1;31mTypeError\u001b[0m: Point() takes no arguments"
     ]
    }
   ],
   "source": [
    "p = Point(1, 2)\n",
    "where_is(p)"
   ]
  },
  {
   "cell_type": "code",
   "execution_count": 42,
   "id": "f45c9e33-ef9e-4666-9988-5da5b0147733",
   "metadata": {},
   "outputs": [
    {
     "ename": "TypeError",
     "evalue": "Point() takes no arguments",
     "output_type": "error",
     "traceback": [
      "\u001b[1;31m---------------------------------------------------------------------------\u001b[0m",
      "\u001b[1;31mTypeError\u001b[0m                                 Traceback (most recent call last)",
      "Input \u001b[1;32mIn [42]\u001b[0m, in \u001b[0;36m<cell line: 1>\u001b[1;34m()\u001b[0m\n\u001b[1;32m----> 1\u001b[0m p \u001b[38;5;241m=\u001b[39m \u001b[43mPoint\u001b[49m\u001b[43m(\u001b[49m\u001b[43mx\u001b[49m\u001b[43m \u001b[49m\u001b[38;5;241;43m=\u001b[39;49m\u001b[43m \u001b[49m\u001b[38;5;241;43m1\u001b[39;49m\u001b[43m,\u001b[49m\u001b[43m \u001b[49m\u001b[43my\u001b[49m\u001b[43m \u001b[49m\u001b[38;5;241;43m=\u001b[39;49m\u001b[43m \u001b[49m\u001b[38;5;241;43m2\u001b[39;49m\u001b[43m)\u001b[49m\n\u001b[0;32m      2\u001b[0m where_is(p)\n",
      "\u001b[1;31mTypeError\u001b[0m: Point() takes no arguments"
     ]
    }
   ],
   "source": [
    "p = Point(x = 1, y = 2)\n",
    "where_is(p)"
   ]
  },
  {
   "cell_type": "markdown",
   "id": "fdd1fd41-bd46-4750-ad6b-46891afdedfc",
   "metadata": {},
   "source": [
    "#### Fixes:\n",
    "***Make Point1 a regular class***"
   ]
  },
  {
   "cell_type": "code",
   "execution_count": 48,
   "id": "968d5fe9-d646-45e8-984d-c7ceac3805c0",
   "metadata": {},
   "outputs": [
    {
     "name": "stdout",
     "output_type": "stream",
     "text": [
      "Origin\n",
      "Not a point\n"
     ]
    }
   ],
   "source": [
    "class Point1:\n",
    "    def __init__(self, x, y):\n",
    "        self.x = x\n",
    "        self.y = y       \n",
    "\n",
    "\n",
    "def where_is1(point):\n",
    "    match point:\n",
    "        case Point1(x=0, y=0):\n",
    "            print(\"Origin\")\n",
    "        case Point1(x=0, y=y):\n",
    "            print(f\"Y={y}\")\n",
    "        case Point1(x=x, y=0):\n",
    "            print(f\"X={x}\")\n",
    "        case Point1():\n",
    "            print(\"Somewhere else\")\n",
    "        case _:\n",
    "            print(\"Not a point\")\n",
    "            \n",
    "where_is1(Point1(0, 0))\n",
    "where_is(Point1(0, 0))"
   ]
  },
  {
   "cell_type": "code",
   "execution_count": 45,
   "id": "0ec1e152-fe01-49bd-b520-095a0928f01c",
   "metadata": {},
   "outputs": [
    {
     "ename": "TypeError",
     "evalue": "Point1.__init__() missing 2 required positional arguments: 'x' and 'y'",
     "output_type": "error",
     "traceback": [
      "\u001b[1;31m---------------------------------------------------------------------------\u001b[0m",
      "\u001b[1;31mTypeError\u001b[0m                                 Traceback (most recent call last)",
      "Input \u001b[1;32mIn [45]\u001b[0m, in \u001b[0;36m<cell line: 1>\u001b[1;34m()\u001b[0m\n\u001b[1;32m----> 1\u001b[0m p \u001b[38;5;241m=\u001b[39m \u001b[43mPoint1\u001b[49m\u001b[43m(\u001b[49m\u001b[43m)\u001b[49m\n",
      "\u001b[1;31mTypeError\u001b[0m: Point1.__init__() missing 2 required positional arguments: 'x' and 'y'"
     ]
    }
   ],
   "source": [
    "p = Point1() # fails while in match-case it's OK"
   ]
  },
  {
   "cell_type": "markdown",
   "id": "97b2c890-65e6-46a7-8934-a03b95540126",
   "metadata": {},
   "source": [
    "***Make Point2 dataclass***"
   ]
  },
  {
   "cell_type": "code",
   "execution_count": 56,
   "id": "39229776-cca8-4a1a-8202-33be1d240557",
   "metadata": {},
   "outputs": [
    {
     "name": "stdout",
     "output_type": "stream",
     "text": [
      "Somewhere else\n"
     ]
    },
    {
     "ename": "TypeError",
     "evalue": "Point2.__init__() missing 2 required positional arguments: 'x' and 'y'",
     "output_type": "error",
     "traceback": [
      "\u001b[1;31m---------------------------------------------------------------------------\u001b[0m",
      "\u001b[1;31mTypeError\u001b[0m                                 Traceback (most recent call last)",
      "Input \u001b[1;32mIn [56]\u001b[0m, in \u001b[0;36m<cell line: 24>\u001b[1;34m()\u001b[0m\n\u001b[0;32m     21\u001b[0m p \u001b[38;5;241m=\u001b[39m Point2(\u001b[38;5;241m2\u001b[39m, \u001b[38;5;241m3.1\u001b[39m)\n\u001b[0;32m     23\u001b[0m where_is2(p)\n\u001b[1;32m---> 24\u001b[0m where_is2(\u001b[43mPoint2\u001b[49m\u001b[43m(\u001b[49m\u001b[43m)\u001b[49m)\n",
      "\u001b[1;31mTypeError\u001b[0m: Point2.__init__() missing 2 required positional arguments: 'x' and 'y'"
     ]
    }
   ],
   "source": [
    "from dataclasses import dataclass\n",
    "\n",
    "@dataclass \n",
    "class Point2:\n",
    "    x: int\n",
    "    y: int\n",
    "    \n",
    "def where_is2(point):\n",
    "    match point:\n",
    "        case Point2(x=0, y=0):\n",
    "            print(\"Origin\")\n",
    "        case Point2(x=0, y=y):\n",
    "            print(f\"Y={y}\")\n",
    "        case Point2(x=x, y=0):\n",
    "            print(f\"X={x}\")\n",
    "        case Point2(): # Again it's OK unlike assignment below\n",
    "            print(\"Somewhere else\")\n",
    "        case _:\n",
    "            print(\"Not a point\")    \n",
    "    \n",
    "p = Point2(2, 3.1)\n",
    "\n",
    "where_is2(p)\n",
    "where_is2(Point2())"
   ]
  },
  {
   "cell_type": "markdown",
   "id": "ea15a473-9d7f-40e1-97c4-3e6b121a700c",
   "metadata": {},
   "source": [
    "***Make Point3 NamedTuple***"
   ]
  },
  {
   "cell_type": "code",
   "execution_count": 55,
   "id": "fd1231dd-98eb-4f1b-87af-d5a25541559b",
   "metadata": {},
   "outputs": [
    {
     "name": "stdout",
     "output_type": "stream",
     "text": [
      "Somewhere else\n"
     ]
    },
    {
     "ename": "TypeError",
     "evalue": "Point3.__new__() missing 2 required positional arguments: 'x' and 'y'",
     "output_type": "error",
     "traceback": [
      "\u001b[1;31m---------------------------------------------------------------------------\u001b[0m",
      "\u001b[1;31mTypeError\u001b[0m                                 Traceback (most recent call last)",
      "Input \u001b[1;32mIn [55]\u001b[0m, in \u001b[0;36m<cell line: 22>\u001b[1;34m()\u001b[0m\n\u001b[0;32m     20\u001b[0m p \u001b[38;5;241m=\u001b[39m Point3(y \u001b[38;5;241m=\u001b[39m \u001b[38;5;241m1\u001b[39m, x \u001b[38;5;241m=\u001b[39m \u001b[38;5;241m2.3\u001b[39m)\n\u001b[0;32m     21\u001b[0m where_is3(p)\n\u001b[1;32m---> 22\u001b[0m where_is(\u001b[43mPoint3\u001b[49m\u001b[43m(\u001b[49m\u001b[43m)\u001b[49m)\n",
      "\u001b[1;31mTypeError\u001b[0m: Point3.__new__() missing 2 required positional arguments: 'x' and 'y'"
     ]
    }
   ],
   "source": [
    "from typing import NamedTuple\n",
    "\n",
    "class Point3(NamedTuple):\n",
    "    x: int\n",
    "    y: int\n",
    "\n",
    "def where_is3(point):\n",
    "    match point:\n",
    "        case Point3(x=0, y=0):\n",
    "            print(\"Origin\")\n",
    "        case Point3(x=0, y=y):\n",
    "            print(f\"Y={y}\")\n",
    "        case Point3(x=x, y=0):\n",
    "            print(f\"X={x}\")\n",
    "        case Point3(): # Again it's OK unlike assignment below\n",
    "            print(\"Somewhere else\")\n",
    "        case _:\n",
    "            print(\"Not a point\")\n",
    "            \n",
    "p = Point3(y = 1, x = 2.3)\n",
    "where_is3(p)\n",
    "where_is(Point3())"
   ]
  },
  {
   "cell_type": "markdown",
   "id": "42a788f6-72d8-4cad-a396-59932f7bff9e",
   "metadata": {
    "tags": []
   },
   "source": [
    "## Scopes"
   ]
  },
  {
   "cell_type": "code",
   "execution_count": 59,
   "id": "9aabc7f9-2631-48c1-a4a9-6bf716bb678e",
   "metadata": {},
   "outputs": [
    {
     "name": "stdout",
     "output_type": "stream",
     "text": [
      "After do_local(): test spam\n",
      "After do_arg(): test spam\n",
      "After do_nonlocal(): nonlocal spam\n",
      "After do_global(): nonlocal spam\n",
      "In global scope: global spam\n"
     ]
    }
   ],
   "source": [
    "def scope_test():\n",
    "    def do_local():\n",
    "        spam = 'local spam'\n",
    "        \n",
    "    def do_arg(spam):\n",
    "        spam = 'reference spam'\n",
    "        \n",
    "    def do_nonlocal():\n",
    "        nonlocal spam\n",
    "        spam = 'nonlocal spam'\n",
    "        \n",
    "    def do_global():\n",
    "        global spam # declares var spam in global scope\n",
    "        spam = 'global spam'\n",
    "        \n",
    "    spam = 'test spam' # NB: we are inside scope_test() scope now\n",
    "    do_local()\n",
    "    print('After do_local():', spam)\n",
    "    do_arg(spam)\n",
    "    print('After do_arg():', spam)\n",
    "    do_nonlocal()\n",
    "    print('After do_nonlocal():', spam)\n",
    "    do_global()\n",
    "    print('After do_global():', spam)\n",
    "    \n",
    "scope_test()\n",
    "\n",
    "print('In global scope:', spam) "
   ]
  },
  {
   "cell_type": "markdown",
   "id": "2611a2ac-7168-4479-91d2-ad0f60e227ba",
   "metadata": {
    "tags": []
   },
   "source": [
    "## Function arg tricks"
   ]
  },
  {
   "cell_type": "markdown",
   "id": "d5246f2a-71b8-4e1c-92cb-f8cd05f97291",
   "metadata": {},
   "source": [
    "#### Default values for args"
   ]
  },
  {
   "cell_type": "code",
   "execution_count": 60,
   "id": "35b6012c-039b-4cba-bc90-0bd59ef2ed37",
   "metadata": {},
   "outputs": [
    {
     "name": "stdout",
     "output_type": "stream",
     "text": [
      "Default: \n",
      "5\n",
      "With argument: \n",
      "10\n"
     ]
    }
   ],
   "source": [
    "i = 5\n",
    "\n",
    "def f(arg = i): # it default to current value of i rather than to i as a reference\n",
    "    print(arg)\n",
    "    \n",
    "i = 10\n",
    "print('Default: ')\n",
    "f()\n",
    "print('With argument: ')\n",
    "f(i)"
   ]
  },
  {
   "cell_type": "code",
   "execution_count": 61,
   "id": "94dfa919-49bc-46e4-8c78-13c1f111b175",
   "metadata": {},
   "outputs": [
    {
     "name": "stdout",
     "output_type": "stream",
     "text": [
      "[0]\n",
      "[0, 1]\n",
      "[0, 1, 2]\n",
      "[3]\n"
     ]
    }
   ],
   "source": [
    "def af(a, l = []): # default evaluates once, for mutable object it means the object is the same and undergoes consecutive changes\n",
    "    l.append(a)\n",
    "    return l\n",
    "\n",
    "print(af(0))\n",
    "print(af(1))\n",
    "print(af(2))\n",
    "print(af(3, []))"
   ]
  },
  {
   "cell_type": "markdown",
   "id": "11d11a6b-cc4c-4427-9750-4d4b65c2a11f",
   "metadata": {},
   "source": [
    "#### Using *args and **kwargs"
   ]
  },
  {
   "cell_type": "code",
   "execution_count": 62,
   "id": "b23a772c-e0ef-4e81-9d96-02d00c0a6a13",
   "metadata": {},
   "outputs": [
    {
     "name": "stdout",
     "output_type": "stream",
     "text": [
      "- Do you have any Limburger ?\n",
      "- I'm sorry, we are all out of Limburger\n",
      "It's very runny, sir.\n",
      "10\n",
      "9\n",
      "8\n",
      "7\n",
      "----------------------------------------\n",
      "shopkeeper : Michael Palin\n",
      "client : John Cleese\n",
      "sketch : Cheese Shop Sketch\n",
      "It's very runny, sir. [10, 9, 8, 7] Michael Palin John Cleese Cheese Shop Sketch\n"
     ]
    }
   ],
   "source": [
    "def cheeseshop(kind, *args, **kwargs): # NB: args and kwargs are still passed by value\n",
    "    print('- Do you have any', kind, '?')\n",
    "    print('- I\\'m sorry, we are all out of', kind)\n",
    "    \n",
    "    i = 0\n",
    "    for a in args:\n",
    "        print(a)\n",
    "        i+=1\n",
    "        a = i\n",
    "        \n",
    "    print('-' * 40)\n",
    "    \n",
    "    for k in kwargs:\n",
    "        print(k, ':', kwargs[k])\n",
    "        i+=1\n",
    "        kwargs[k] = i\n",
    "        \n",
    "arg0 = 'It\\'s very runny, sir.'\n",
    "arg1 = [10, 9, 8, 7]\n",
    "\n",
    "shopkeeper = 'Michael Palin'\n",
    "client     = 'John Cleese'\n",
    "sketch     = 'Cheese Shop Sketch'\n",
    "\n",
    "# passing iterable preseeded by * unfolds it\n",
    "cheeseshop('Limburger', arg0, *arg1, shopkeeper = shopkeeper, client = client, sketch = sketch) \n",
    "print(arg0, arg1, shopkeeper, client, sketch)"
   ]
  },
  {
   "cell_type": "markdown",
   "id": "f15cee88-bf95-42e5-936c-f18e21ceb0da",
   "metadata": {},
   "source": [
    "#### Positional only, positional or keyword, keyword only arguments"
   ]
  },
  {
   "cell_type": "code",
   "execution_count": 63,
   "id": "c381b480-6e30-4130-87a9-72ee515abbc6",
   "metadata": {},
   "outputs": [],
   "source": [
    "def standard_arg(arg):\n",
    "    print(arg)\n",
    "    \n",
    "def pos_only_arg(arg, /):\n",
    "    print(arg)\n",
    "    \n",
    "def kwd_only_arg(*, arg):\n",
    "    print(arg)\n",
    "    \n",
    "def combined_arg(pos_only, /, standard, *, kwd_only):\n",
    "    print(pos_only, standard, kwd_only)"
   ]
  },
  {
   "cell_type": "code",
   "execution_count": 64,
   "id": "34c57ce3-f6bf-4ca4-a007-bc2f50b9af29",
   "metadata": {},
   "outputs": [
    {
     "name": "stdout",
     "output_type": "stream",
     "text": [
      "std\n",
      "std 1\n",
      "pos\n",
      "kwd\n",
      "pos std kwd\n",
      "pos std1 kwd\n"
     ]
    }
   ],
   "source": [
    "# correct calls\n",
    "\n",
    "standard_arg('std')\n",
    "standard_arg(arg = 'std 1')\n",
    "pos_only_arg('pos')\n",
    "kwd_only_arg(arg = 'kwd')\n",
    "combined_arg('pos', 'std', kwd_only = 'kwd')\n",
    "combined_arg('pos', kwd_only = 'kwd', standard = 'std1')"
   ]
  },
  {
   "cell_type": "code",
   "execution_count": 65,
   "id": "bbe55df0-7d90-4416-91b1-df7ba702511c",
   "metadata": {},
   "outputs": [
    {
     "ename": "TypeError",
     "evalue": "standard_arg() got multiple values for argument 'arg'",
     "output_type": "error",
     "traceback": [
      "\u001b[1;31m---------------------------------------------------------------------------\u001b[0m",
      "\u001b[1;31mTypeError\u001b[0m                                 Traceback (most recent call last)",
      "Input \u001b[1;32mIn [65]\u001b[0m, in \u001b[0;36m<cell line: 2>\u001b[1;34m()\u001b[0m\n\u001b[0;32m      1\u001b[0m \u001b[38;5;66;03m# duplicate arg\u001b[39;00m\n\u001b[1;32m----> 2\u001b[0m \u001b[43mstandard_arg\u001b[49m\u001b[43m(\u001b[49m\u001b[38;5;241;43m0\u001b[39;49m\u001b[43m,\u001b[49m\u001b[43m \u001b[49m\u001b[43marg\u001b[49m\u001b[43m \u001b[49m\u001b[38;5;241;43m=\u001b[39;49m\u001b[43m \u001b[49m\u001b[38;5;241;43m0\u001b[39;49m\u001b[43m)\u001b[49m\n",
      "\u001b[1;31mTypeError\u001b[0m: standard_arg() got multiple values for argument 'arg'"
     ]
    }
   ],
   "source": [
    "# duplicate arg\n",
    "standard_arg(0, arg = 0)"
   ]
  },
  {
   "cell_type": "code",
   "execution_count": 66,
   "id": "39a73911-3286-496c-9853-18204ca3ab6e",
   "metadata": {},
   "outputs": [
    {
     "ename": "TypeError",
     "evalue": "pos_only_arg() got some positional-only arguments passed as keyword arguments: 'arg'",
     "output_type": "error",
     "traceback": [
      "\u001b[1;31m---------------------------------------------------------------------------\u001b[0m",
      "\u001b[1;31mTypeError\u001b[0m                                 Traceback (most recent call last)",
      "Input \u001b[1;32mIn [66]\u001b[0m, in \u001b[0;36m<cell line: 2>\u001b[1;34m()\u001b[0m\n\u001b[0;32m      1\u001b[0m \u001b[38;5;66;03m# Positional only arg assigned by name\u001b[39;00m\n\u001b[1;32m----> 2\u001b[0m \u001b[43mpos_only_arg\u001b[49m\u001b[43m(\u001b[49m\u001b[43marg\u001b[49m\u001b[43m \u001b[49m\u001b[38;5;241;43m=\u001b[39;49m\u001b[43m \u001b[49m\u001b[38;5;241;43m0\u001b[39;49m\u001b[43m)\u001b[49m\n",
      "\u001b[1;31mTypeError\u001b[0m: pos_only_arg() got some positional-only arguments passed as keyword arguments: 'arg'"
     ]
    }
   ],
   "source": [
    "# Positional only arg assigned by name\n",
    "pos_only_arg(arg = 0)"
   ]
  },
  {
   "cell_type": "code",
   "execution_count": 67,
   "id": "5725e217-2b0b-484f-8bcb-2d83aa0fb021",
   "metadata": {},
   "outputs": [
    {
     "ename": "TypeError",
     "evalue": "kwd_only_arg() takes 0 positional arguments but 1 was given",
     "output_type": "error",
     "traceback": [
      "\u001b[1;31m---------------------------------------------------------------------------\u001b[0m",
      "\u001b[1;31mTypeError\u001b[0m                                 Traceback (most recent call last)",
      "Input \u001b[1;32mIn [67]\u001b[0m, in \u001b[0;36m<cell line: 2>\u001b[1;34m()\u001b[0m\n\u001b[0;32m      1\u001b[0m \u001b[38;5;66;03m# Keyword only arg passed as positional\u001b[39;00m\n\u001b[1;32m----> 2\u001b[0m \u001b[43mkwd_only_arg\u001b[49m\u001b[43m(\u001b[49m\u001b[38;5;241;43m0\u001b[39;49m\u001b[43m)\u001b[49m\n",
      "\u001b[1;31mTypeError\u001b[0m: kwd_only_arg() takes 0 positional arguments but 1 was given"
     ]
    }
   ],
   "source": [
    "# Keyword only arg passed as positional\n",
    "kwd_only_arg(0)"
   ]
  },
  {
   "cell_type": "markdown",
   "id": "c6c4da74-0d01-4b6a-a967-b6ae28e3e9d3",
   "metadata": {},
   "source": [
    "#### Standard and positional args with **kwargs - solving arg name clash"
   ]
  },
  {
   "cell_type": "code",
   "execution_count": 68,
   "id": "e7d96122-6d4c-4a67-ade6-8d4b9745d073",
   "metadata": {},
   "outputs": [],
   "source": [
    "def std_kwd(name, **kwds):\n",
    "    return 'name' in kwds # always False or Error\n",
    "\n",
    "def pos_kwd(name, /, **kwds):\n",
    "    return 'name' in kwds # can have name arg"
   ]
  },
  {
   "cell_type": "code",
   "execution_count": 69,
   "id": "3b47cebc-3a9d-441a-91b3-fc7556dc1049",
   "metadata": {},
   "outputs": [
    {
     "ename": "TypeError",
     "evalue": "std_kwd() got multiple values for argument 'name'",
     "output_type": "error",
     "traceback": [
      "\u001b[1;31m---------------------------------------------------------------------------\u001b[0m",
      "\u001b[1;31mTypeError\u001b[0m                                 Traceback (most recent call last)",
      "Input \u001b[1;32mIn [69]\u001b[0m, in \u001b[0;36m<cell line: 1>\u001b[1;34m()\u001b[0m\n\u001b[1;32m----> 1\u001b[0m \u001b[43mstd_kwd\u001b[49m\u001b[43m(\u001b[49m\u001b[38;5;124;43m'\u001b[39;49m\u001b[38;5;124;43mJohn\u001b[39;49m\u001b[38;5;124;43m'\u001b[39;49m\u001b[43m,\u001b[49m\u001b[43m \u001b[49m\u001b[43mname\u001b[49m\u001b[43m \u001b[49m\u001b[38;5;241;43m=\u001b[39;49m\u001b[43m \u001b[49m\u001b[38;5;124;43m'\u001b[39;49m\u001b[38;5;124;43mJohn\u001b[39;49m\u001b[38;5;124;43m'\u001b[39;49m\u001b[43m)\u001b[49m\n",
      "\u001b[1;31mTypeError\u001b[0m: std_kwd() got multiple values for argument 'name'"
     ]
    }
   ],
   "source": [
    "std_kwd('John', name = 'John')"
   ]
  },
  {
   "cell_type": "code",
   "execution_count": 71,
   "id": "e0d7ca0d-cc92-4a7e-acaf-02c6c04a2b18",
   "metadata": {},
   "outputs": [
    {
     "ename": "TypeError",
     "evalue": "std_kwd() got multiple values for argument 'name'",
     "output_type": "error",
     "traceback": [
      "\u001b[1;31m---------------------------------------------------------------------------\u001b[0m",
      "\u001b[1;31mTypeError\u001b[0m                                 Traceback (most recent call last)",
      "Input \u001b[1;32mIn [71]\u001b[0m, in \u001b[0;36m<cell line: 1>\u001b[1;34m()\u001b[0m\n\u001b[1;32m----> 1\u001b[0m std_kwd(\u001b[38;5;124m'\u001b[39m\u001b[38;5;124mJohn\u001b[39m\u001b[38;5;124m'\u001b[39m, \u001b[38;5;241m*\u001b[39m\u001b[38;5;241m*\u001b[39m{\u001b[38;5;124m'\u001b[39m\u001b[38;5;124mname\u001b[39m\u001b[38;5;124m'\u001b[39m: \u001b[38;5;124m'\u001b[39m\u001b[38;5;124mJohn\u001b[39m\u001b[38;5;124m'\u001b[39m})\n",
      "\u001b[1;31mTypeError\u001b[0m: std_kwd() got multiple values for argument 'name'"
     ]
    }
   ],
   "source": [
    "std_kwd('John', **{'name': 'John'}) #another way to assign kwargs"
   ]
  },
  {
   "cell_type": "code",
   "execution_count": 72,
   "id": "eead18f3-b6d3-424d-a20e-031c9a22420b",
   "metadata": {},
   "outputs": [
    {
     "data": {
      "text/plain": [
       "True"
      ]
     },
     "execution_count": 72,
     "metadata": {},
     "output_type": "execute_result"
    }
   ],
   "source": [
    "pos_kwd('John', name = 'Jenny')"
   ]
  },
  {
   "cell_type": "code",
   "execution_count": 73,
   "id": "45b80d56-6918-4a41-ab10-590f7e4565ce",
   "metadata": {},
   "outputs": [
    {
     "data": {
      "text/plain": [
       "True"
      ]
     },
     "execution_count": 73,
     "metadata": {},
     "output_type": "execute_result"
    }
   ],
   "source": [
    "pos_kwd('John', **{'name': 'John'})"
   ]
  },
  {
   "cell_type": "markdown",
   "id": "dab09369-db82-429b-b7f3-2e598ed2250b",
   "metadata": {},
   "source": [
    "#### Unfold/unpack arguments"
   ]
  },
  {
   "cell_type": "code",
   "execution_count": 75,
   "id": "9236b6a0-05f7-4eee-9cb0-d29e9ea069ab",
   "metadata": {},
   "outputs": [
    {
     "name": "stdout",
     "output_type": "stream",
     "text": [
      "This parrot would not fly if you put 360 volts through it. E's dead !\n",
      "This parrot would not beg sugar if you put four million volts through it. E's None !\n"
     ]
    }
   ],
   "source": [
    "def parrot(voltage, state, action):\n",
    "    print('This parrot would not', action, end = ' ')\n",
    "    print('if you put', voltage, 'volts through it.', end = ' ')\n",
    "    print(\"E's\", state, '!')\n",
    "    \n",
    "args = (360, 'dead', 'fly')\n",
    "kwargs = {'voltage': 'four million', 'action': 'beg sugar', 'state': None}\n",
    "\n",
    "parrot(*args)\n",
    "parrot(**kwargs)"
   ]
  },
  {
   "cell_type": "markdown",
   "id": "44f81f41-73b2-4c8d-a7ce-1e9d152a1014",
   "metadata": {},
   "source": [
    "#### Passing by reference ('out argument')"
   ]
  },
  {
   "cell_type": "code",
   "execution_count": 76,
   "id": "aabcc879-923b-4b72-a1c5-5b40ce3c4b13",
   "metadata": {},
   "outputs": [
    {
     "name": "stdout",
     "output_type": "stream",
     "text": [
      "[5]\n"
     ]
    }
   ],
   "source": [
    "def change_it(i):\n",
    "    i[0] = 5\n",
    "    \n",
    "a = [666]\n",
    "change_it(a)\n",
    "print(a)"
   ]
  },
  {
   "cell_type": "markdown",
   "id": "5d983520-1d7b-4bcb-bca8-b4a882d581fe",
   "metadata": {
    "tags": []
   },
   "source": [
    "## for statement"
   ]
  },
  {
   "cell_type": "markdown",
   "id": "ea7d0d7e-3558-4656-a347-f20bdaadd073",
   "metadata": {},
   "source": [
    "### for (int i = 0; i < 10; ++i) { ... }"
   ]
  },
  {
   "cell_type": "code",
   "execution_count": 90,
   "id": "e142c74c-f95f-4234-a4e8-daf765161800",
   "metadata": {},
   "outputs": [
    {
     "name": "stdout",
     "output_type": "stream",
     "text": [
      "0 1 2 3 4 5 6 7 8 9 "
     ]
    }
   ],
   "source": [
    "for i in range(10):\n",
    "    print(i, end = ' ')"
   ]
  },
  {
   "cell_type": "markdown",
   "id": "d6c32b6c-fec2-4cec-9510-9a070bf439ad",
   "metadata": {},
   "source": [
    "#### for (int i = 1; i < 10; i += 2) { ... }"
   ]
  },
  {
   "cell_type": "code",
   "execution_count": 91,
   "id": "7c66daee-3b19-4f96-a9e7-cff8614e7ccb",
   "metadata": {},
   "outputs": [
    {
     "name": "stdout",
     "output_type": "stream",
     "text": [
      "1 3 5 7 9 "
     ]
    }
   ],
   "source": [
    "for i in range(1, 10, 2):\n",
    "     print(i, end = ' ')"
   ]
  },
  {
   "cell_type": "markdown",
   "id": "8ec4af6f-00f9-446a-a78a-d5ce3184d406",
   "metadata": {},
   "source": [
    "#### break and continue work the same but there is else clause in for loop"
   ]
  },
  {
   "cell_type": "code",
   "execution_count": 92,
   "id": "25c48d3c-34c6-4bf7-820b-2061d47143ae",
   "metadata": {},
   "outputs": [
    {
     "name": "stdout",
     "output_type": "stream",
     "text": [
      "2 is a prime number\n",
      "3 is a prime number\n",
      "4 equals 2 * 2\n",
      "5 is a prime number\n",
      "6 equals 2 * 3\n",
      "7 is a prime number\n",
      "8 equals 2 * 4\n",
      "9 equals 3 * 3\n"
     ]
    }
   ],
   "source": [
    "for n in range(2, 10):\n",
    "    for x in range(2, n):\n",
    "        if n % x == 0:\n",
    "            print('{} equals {} * {}'.format(n, x, n//x))\n",
    "            break\n",
    "    else: # loop ended without a break\n",
    "        print(n, 'is a prime number')"
   ]
  },
  {
   "cell_type": "markdown",
   "id": "24fc2f9e-3f50-4d53-9d25-2272dbbcbbc5",
   "metadata": {
    "tags": []
   },
   "source": [
    "## Classes and objects"
   ]
  },
  {
   "cell_type": "markdown",
   "id": "5f17a6ec-8bac-46ad-8f26-19ffbcc52173",
   "metadata": {},
   "source": [
    "### Class variables"
   ]
  },
  {
   "cell_type": "code",
   "execution_count": 78,
   "id": "5215d99c-26a3-409b-a98d-2daf216518c6",
   "metadata": {},
   "outputs": [
    {
     "name": "stdout",
     "output_type": "stream",
     "text": [
      "salvage west\n",
      "storage east\n"
     ]
    }
   ],
   "source": [
    "class Warehouse:\n",
    "    purpose = 'storage'\n",
    "    region  = 'west'\n",
    "    \n",
    "w1 = Warehouse()\n",
    "w2 = Warehouse()\n",
    "w2.region = 'east'\n",
    "w1.purpose = 'salvage'\n",
    "\n",
    "print(w1.purpose, w1.region)\n",
    "print(w2.purpose, w2.region)"
   ]
  },
  {
   "cell_type": "markdown",
   "id": "1f1e6bfe-cc8e-4924-bdad-2f9bf4b4eb47",
   "metadata": {},
   "source": [
    "#### But!"
   ]
  },
  {
   "cell_type": "code",
   "execution_count": 79,
   "id": "e297257d-8e90-4921-b640-b21a422c9b7a",
   "metadata": {},
   "outputs": [
    {
     "name": "stdout",
     "output_type": "stream",
     "text": [
      "['roll over', 'play dead']\n",
      "['roll over', 'play dead']\n"
     ]
    }
   ],
   "source": [
    "class Dog:\n",
    "    tricks = []\n",
    "    \n",
    "    def __init__(self, name):\n",
    "        self.name = name\n",
    "        \n",
    "fido = Dog('Fido')\n",
    "fido.tricks.append('roll over')\n",
    "\n",
    "buddy = Dog('Buddy')\n",
    "buddy.tricks.append('play dead')\n",
    "\n",
    "print(fido.tricks)\n",
    "print(buddy.tricks)"
   ]
  },
  {
   "cell_type": "markdown",
   "id": "d4551cf1-c2f8-432c-9405-dff1e478352c",
   "metadata": {},
   "source": [
    "### Each value is an object and its type is stored as _class_ attribute"
   ]
  },
  {
   "cell_type": "code",
   "execution_count": 80,
   "id": "952e1752-e645-4bff-a09f-068e82ced607",
   "metadata": {},
   "outputs": [
    {
     "data": {
      "text/plain": [
       "str"
      ]
     },
     "execution_count": 80,
     "metadata": {},
     "output_type": "execute_result"
    }
   ],
   "source": [
    "'string'.__class__"
   ]
  },
  {
   "cell_type": "code",
   "execution_count": 81,
   "id": "de13f3b2-1773-452a-a36d-00b96bb313e5",
   "metadata": {},
   "outputs": [
    {
     "data": {
      "text/plain": [
       "bool"
      ]
     },
     "execution_count": 81,
     "metadata": {},
     "output_type": "execute_result"
    }
   ],
   "source": [
    "True.__class__"
   ]
  },
  {
   "cell_type": "code",
   "execution_count": 82,
   "id": "da7e3f22-88f2-49d9-9b31-6a571fde7c49",
   "metadata": {},
   "outputs": [
    {
     "data": {
      "text/plain": [
       "float"
      ]
     },
     "execution_count": 82,
     "metadata": {},
     "output_type": "execute_result"
    }
   ],
   "source": [
    "5.6.__class__"
   ]
  },
  {
   "cell_type": "code",
   "execution_count": 83,
   "id": "adef105f-e9dd-46f6-be38-bacdcbb4ce68",
   "metadata": {},
   "outputs": [
    {
     "ename": "SyntaxError",
     "evalue": "invalid decimal literal (4151937913.py, line 1)",
     "output_type": "error",
     "traceback": [
      "\u001b[1;36m  Input \u001b[1;32mIn [83]\u001b[1;36m\u001b[0m\n\u001b[1;33m    1.__class__\u001b[0m\n\u001b[1;37m     ^\u001b[0m\n\u001b[1;31mSyntaxError\u001b[0m\u001b[1;31m:\u001b[0m invalid decimal literal\n"
     ]
    }
   ],
   "source": [
    "1.__class__"
   ]
  },
  {
   "cell_type": "code",
   "execution_count": 85,
   "id": "7c52080a-3b6e-41a6-932b-d0cf8e7fd50d",
   "metadata": {},
   "outputs": [
    {
     "data": {
      "text/plain": [
       "int"
      ]
     },
     "execution_count": 85,
     "metadata": {},
     "output_type": "execute_result"
    }
   ],
   "source": [
    "(1).__class__"
   ]
  },
  {
   "cell_type": "code",
   "execution_count": 86,
   "id": "bb0c1d16-13b7-40fb-9847-be9d5f83a04e",
   "metadata": {},
   "outputs": [
    {
     "data": {
      "text/plain": [
       "True"
      ]
     },
     "execution_count": 86,
     "metadata": {},
     "output_type": "execute_result"
    }
   ],
   "source": [
    "issubclass(bool, int)"
   ]
  },
  {
   "cell_type": "code",
   "execution_count": 87,
   "id": "4ce0a064-9149-4575-b08e-0cf034c9d438",
   "metadata": {},
   "outputs": [
    {
     "data": {
      "text/plain": [
       "True"
      ]
     },
     "execution_count": 87,
     "metadata": {},
     "output_type": "execute_result"
    }
   ],
   "source": [
    "b = False\n",
    "isinstance(b, int)"
   ]
  },
  {
   "cell_type": "code",
   "execution_count": 88,
   "id": "f5b82408-6ce4-468c-a5ed-9cda59cfd3db",
   "metadata": {},
   "outputs": [
    {
     "data": {
      "text/plain": [
       "True"
      ]
     },
     "execution_count": 88,
     "metadata": {},
     "output_type": "execute_result"
    }
   ],
   "source": [
    "isinstance(True, int)"
   ]
  },
  {
   "cell_type": "code",
   "execution_count": null,
   "id": "26041bf9-bceb-4a1e-8408-c003b3d5d167",
   "metadata": {},
   "outputs": [],
   "source": []
  }
 ],
 "metadata": {
  "kernelspec": {
   "display_name": "Python 3",
   "language": "python",
   "name": "python3"
  },
  "language_info": {
   "codemirror_mode": {
    "name": "ipython",
    "version": 3
   },
   "file_extension": ".py",
   "mimetype": "text/x-python",
   "name": "python",
   "nbconvert_exporter": "python",
   "pygments_lexer": "ipython3",
   "version": "3.10.5"
  }
 },
 "nbformat": 4,
 "nbformat_minor": 5
}
